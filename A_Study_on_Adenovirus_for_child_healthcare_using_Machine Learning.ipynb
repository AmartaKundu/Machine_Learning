{
  "nbformat": 4,
  "nbformat_minor": 0,
  "metadata": {
    "colab": {
      "provenance": [],
      "include_colab_link": true
    },
    "kernelspec": {
      "name": "python3",
      "display_name": "Python 3"
    },
    "language_info": {
      "name": "python"
    }
  },
  "cells": [
    {
      "cell_type": "markdown",
      "metadata": {
        "id": "view-in-github",
        "colab_type": "text"
      },
      "source": [
        "<a href=\"https://colab.research.google.com/github/AmartaKundu/Machine_Learning/blob/main/A_Study_on_Adenovirus_for_child_healthcare_using_Machine%C2%A0Learning.ipynb\" target=\"_parent\"><img src=\"https://colab.research.google.com/assets/colab-badge.svg\" alt=\"Open In Colab\"/></a>"
      ]
    },
    {
      "cell_type": "markdown",
      "source": [
        "[**`AMARTA KUNDU`**](https://www.linkedin.com/in/amartakundu/)"
      ],
      "metadata": {
        "id": "G_N9C4rbtaLT"
      }
    },
    {
      "cell_type": "code",
      "execution_count": null,
      "metadata": {
        "id": "TdQabV4avVPK"
      },
      "outputs": [],
      "source": [
        "...\n",
        "Amarta Kundu (amartakundu247@gmail.com)\n",
        "Final Year Student, JIS College of Engineering, Kalyani\n",
        "...\n",
        "\n",
        "# Import the required libraries\n",
        "import pandas as pd\n",
        "import numpy as np\n",
        "# data visualization library \n",
        "import matplotlib\n",
        "import matplotlib.pyplot as plt\n",
        "import seaborn as sns\n",
        "import numpy as np\n",
        "import pandas as pd\n",
        "import matplotlib.pyplot as plt\n",
        "import seaborn as sns\n",
        "import plotly.express as px"
      ]
    },
    {
      "cell_type": "code",
      "source": [
        "from google.colab import files\n",
        "uploaded = files.upload()"
      ],
      "metadata": {
        "colab": {
          "base_uri": "https://localhost:8080/",
          "height": 73
        },
        "id": "g4SBA8upvymC",
        "outputId": "20e40c19-7b68-4048-895e-3dc48891175f"
      },
      "execution_count": null,
      "outputs": [
        {
          "output_type": "display_data",
          "data": {
            "text/plain": [
              "<IPython.core.display.HTML object>"
            ],
            "text/html": [
              "\n",
              "     <input type=\"file\" id=\"files-82ace60e-6f35-456c-81e2-bb601d947894\" name=\"files[]\" multiple disabled\n",
              "        style=\"border:none\" />\n",
              "     <output id=\"result-82ace60e-6f35-456c-81e2-bb601d947894\">\n",
              "      Upload widget is only available when the cell has been executed in the\n",
              "      current browser session. Please rerun this cell to enable.\n",
              "      </output>\n",
              "      <script>// Copyright 2017 Google LLC\n",
              "//\n",
              "// Licensed under the Apache License, Version 2.0 (the \"License\");\n",
              "// you may not use this file except in compliance with the License.\n",
              "// You may obtain a copy of the License at\n",
              "//\n",
              "//      http://www.apache.org/licenses/LICENSE-2.0\n",
              "//\n",
              "// Unless required by applicable law or agreed to in writing, software\n",
              "// distributed under the License is distributed on an \"AS IS\" BASIS,\n",
              "// WITHOUT WARRANTIES OR CONDITIONS OF ANY KIND, either express or implied.\n",
              "// See the License for the specific language governing permissions and\n",
              "// limitations under the License.\n",
              "\n",
              "/**\n",
              " * @fileoverview Helpers for google.colab Python module.\n",
              " */\n",
              "(function(scope) {\n",
              "function span(text, styleAttributes = {}) {\n",
              "  const element = document.createElement('span');\n",
              "  element.textContent = text;\n",
              "  for (const key of Object.keys(styleAttributes)) {\n",
              "    element.style[key] = styleAttributes[key];\n",
              "  }\n",
              "  return element;\n",
              "}\n",
              "\n",
              "// Max number of bytes which will be uploaded at a time.\n",
              "const MAX_PAYLOAD_SIZE = 100 * 1024;\n",
              "\n",
              "function _uploadFiles(inputId, outputId) {\n",
              "  const steps = uploadFilesStep(inputId, outputId);\n",
              "  const outputElement = document.getElementById(outputId);\n",
              "  // Cache steps on the outputElement to make it available for the next call\n",
              "  // to uploadFilesContinue from Python.\n",
              "  outputElement.steps = steps;\n",
              "\n",
              "  return _uploadFilesContinue(outputId);\n",
              "}\n",
              "\n",
              "// This is roughly an async generator (not supported in the browser yet),\n",
              "// where there are multiple asynchronous steps and the Python side is going\n",
              "// to poll for completion of each step.\n",
              "// This uses a Promise to block the python side on completion of each step,\n",
              "// then passes the result of the previous step as the input to the next step.\n",
              "function _uploadFilesContinue(outputId) {\n",
              "  const outputElement = document.getElementById(outputId);\n",
              "  const steps = outputElement.steps;\n",
              "\n",
              "  const next = steps.next(outputElement.lastPromiseValue);\n",
              "  return Promise.resolve(next.value.promise).then((value) => {\n",
              "    // Cache the last promise value to make it available to the next\n",
              "    // step of the generator.\n",
              "    outputElement.lastPromiseValue = value;\n",
              "    return next.value.response;\n",
              "  });\n",
              "}\n",
              "\n",
              "/**\n",
              " * Generator function which is called between each async step of the upload\n",
              " * process.\n",
              " * @param {string} inputId Element ID of the input file picker element.\n",
              " * @param {string} outputId Element ID of the output display.\n",
              " * @return {!Iterable<!Object>} Iterable of next steps.\n",
              " */\n",
              "function* uploadFilesStep(inputId, outputId) {\n",
              "  const inputElement = document.getElementById(inputId);\n",
              "  inputElement.disabled = false;\n",
              "\n",
              "  const outputElement = document.getElementById(outputId);\n",
              "  outputElement.innerHTML = '';\n",
              "\n",
              "  const pickedPromise = new Promise((resolve) => {\n",
              "    inputElement.addEventListener('change', (e) => {\n",
              "      resolve(e.target.files);\n",
              "    });\n",
              "  });\n",
              "\n",
              "  const cancel = document.createElement('button');\n",
              "  inputElement.parentElement.appendChild(cancel);\n",
              "  cancel.textContent = 'Cancel upload';\n",
              "  const cancelPromise = new Promise((resolve) => {\n",
              "    cancel.onclick = () => {\n",
              "      resolve(null);\n",
              "    };\n",
              "  });\n",
              "\n",
              "  // Wait for the user to pick the files.\n",
              "  const files = yield {\n",
              "    promise: Promise.race([pickedPromise, cancelPromise]),\n",
              "    response: {\n",
              "      action: 'starting',\n",
              "    }\n",
              "  };\n",
              "\n",
              "  cancel.remove();\n",
              "\n",
              "  // Disable the input element since further picks are not allowed.\n",
              "  inputElement.disabled = true;\n",
              "\n",
              "  if (!files) {\n",
              "    return {\n",
              "      response: {\n",
              "        action: 'complete',\n",
              "      }\n",
              "    };\n",
              "  }\n",
              "\n",
              "  for (const file of files) {\n",
              "    const li = document.createElement('li');\n",
              "    li.append(span(file.name, {fontWeight: 'bold'}));\n",
              "    li.append(span(\n",
              "        `(${file.type || 'n/a'}) - ${file.size} bytes, ` +\n",
              "        `last modified: ${\n",
              "            file.lastModifiedDate ? file.lastModifiedDate.toLocaleDateString() :\n",
              "                                    'n/a'} - `));\n",
              "    const percent = span('0% done');\n",
              "    li.appendChild(percent);\n",
              "\n",
              "    outputElement.appendChild(li);\n",
              "\n",
              "    const fileDataPromise = new Promise((resolve) => {\n",
              "      const reader = new FileReader();\n",
              "      reader.onload = (e) => {\n",
              "        resolve(e.target.result);\n",
              "      };\n",
              "      reader.readAsArrayBuffer(file);\n",
              "    });\n",
              "    // Wait for the data to be ready.\n",
              "    let fileData = yield {\n",
              "      promise: fileDataPromise,\n",
              "      response: {\n",
              "        action: 'continue',\n",
              "      }\n",
              "    };\n",
              "\n",
              "    // Use a chunked sending to avoid message size limits. See b/62115660.\n",
              "    let position = 0;\n",
              "    do {\n",
              "      const length = Math.min(fileData.byteLength - position, MAX_PAYLOAD_SIZE);\n",
              "      const chunk = new Uint8Array(fileData, position, length);\n",
              "      position += length;\n",
              "\n",
              "      const base64 = btoa(String.fromCharCode.apply(null, chunk));\n",
              "      yield {\n",
              "        response: {\n",
              "          action: 'append',\n",
              "          file: file.name,\n",
              "          data: base64,\n",
              "        },\n",
              "      };\n",
              "\n",
              "      let percentDone = fileData.byteLength === 0 ?\n",
              "          100 :\n",
              "          Math.round((position / fileData.byteLength) * 100);\n",
              "      percent.textContent = `${percentDone}% done`;\n",
              "\n",
              "    } while (position < fileData.byteLength);\n",
              "  }\n",
              "\n",
              "  // All done.\n",
              "  yield {\n",
              "    response: {\n",
              "      action: 'complete',\n",
              "    }\n",
              "  };\n",
              "}\n",
              "\n",
              "scope.google = scope.google || {};\n",
              "scope.google.colab = scope.google.colab || {};\n",
              "scope.google.colab._files = {\n",
              "  _uploadFiles,\n",
              "  _uploadFilesContinue,\n",
              "};\n",
              "})(self);\n",
              "</script> "
            ]
          },
          "metadata": {}
        },
        {
          "output_type": "stream",
          "name": "stdout",
          "text": [
            "Saving Adenoviruses_Dataset.csv to Adenoviruses_Dataset.csv\n"
          ]
        }
      ]
    },
    {
      "cell_type": "code",
      "source": [
        "import io\n",
        "adenoviruses = pd.read_csv(io.BytesIO(uploaded['Adenoviruses_Dataset.csv']))\n",
        "\n",
        "pd.set_option('display.max_columns', None)\n",
        "adenoviruses.head()\n",
        "\n",
        "data = adenoviruses.copy()"
      ],
      "metadata": {
        "id": "fDslwmqPvyjL"
      },
      "execution_count": null,
      "outputs": []
    },
    {
      "cell_type": "code",
      "source": [
        "adenoviruses.head()"
      ],
      "metadata": {
        "colab": {
          "base_uri": "https://localhost:8080/",
          "height": 206
        },
        "id": "ZmyrHAGFvygY",
        "outputId": "5f5b3242-e85f-479d-808e-bbb97e2b4251"
      },
      "execution_count": null,
      "outputs": [
        {
          "output_type": "execute_result",
          "data": {
            "text/plain": [
              "  Breathing Problem Pink Eye Pneumonia  Fever Acute Gastroenteritis   \\\n",
              "0               Yes      Yes        Yes   Yes                    Yes   \n",
              "1               Yes      Yes        Yes   Yes                    Yes   \n",
              "2               Yes      Yes        Yes   Yes                     No   \n",
              "3               Yes      Yes        Yes   Yes                    Yes   \n",
              "4               Yes      Yes        Yes   Yes                    Yes   \n",
              "\n",
              "  Dry Cough Sore throat Bladder Infection Adenoviruses  \n",
              "0       Yes         Yes                No          Yes  \n",
              "1       Yes         Yes               Yes          Yes  \n",
              "2       Yes         Yes               Yes          Yes  \n",
              "3       Yes          No               Yes          Yes  \n",
              "4       Yes         Yes                No          Yes  "
            ],
            "text/html": [
              "\n",
              "  <div id=\"df-341ae875-a92a-4bf1-9d59-527973e63995\">\n",
              "    <div class=\"colab-df-container\">\n",
              "      <div>\n",
              "<style scoped>\n",
              "    .dataframe tbody tr th:only-of-type {\n",
              "        vertical-align: middle;\n",
              "    }\n",
              "\n",
              "    .dataframe tbody tr th {\n",
              "        vertical-align: top;\n",
              "    }\n",
              "\n",
              "    .dataframe thead th {\n",
              "        text-align: right;\n",
              "    }\n",
              "</style>\n",
              "<table border=\"1\" class=\"dataframe\">\n",
              "  <thead>\n",
              "    <tr style=\"text-align: right;\">\n",
              "      <th></th>\n",
              "      <th>Breathing Problem</th>\n",
              "      <th>Pink Eye</th>\n",
              "      <th>Pneumonia</th>\n",
              "      <th>Fever</th>\n",
              "      <th>Acute Gastroenteritis</th>\n",
              "      <th>Dry Cough</th>\n",
              "      <th>Sore throat</th>\n",
              "      <th>Bladder Infection</th>\n",
              "      <th>Adenoviruses</th>\n",
              "    </tr>\n",
              "  </thead>\n",
              "  <tbody>\n",
              "    <tr>\n",
              "      <th>0</th>\n",
              "      <td>Yes</td>\n",
              "      <td>Yes</td>\n",
              "      <td>Yes</td>\n",
              "      <td>Yes</td>\n",
              "      <td>Yes</td>\n",
              "      <td>Yes</td>\n",
              "      <td>Yes</td>\n",
              "      <td>No</td>\n",
              "      <td>Yes</td>\n",
              "    </tr>\n",
              "    <tr>\n",
              "      <th>1</th>\n",
              "      <td>Yes</td>\n",
              "      <td>Yes</td>\n",
              "      <td>Yes</td>\n",
              "      <td>Yes</td>\n",
              "      <td>Yes</td>\n",
              "      <td>Yes</td>\n",
              "      <td>Yes</td>\n",
              "      <td>Yes</td>\n",
              "      <td>Yes</td>\n",
              "    </tr>\n",
              "    <tr>\n",
              "      <th>2</th>\n",
              "      <td>Yes</td>\n",
              "      <td>Yes</td>\n",
              "      <td>Yes</td>\n",
              "      <td>Yes</td>\n",
              "      <td>No</td>\n",
              "      <td>Yes</td>\n",
              "      <td>Yes</td>\n",
              "      <td>Yes</td>\n",
              "      <td>Yes</td>\n",
              "    </tr>\n",
              "    <tr>\n",
              "      <th>3</th>\n",
              "      <td>Yes</td>\n",
              "      <td>Yes</td>\n",
              "      <td>Yes</td>\n",
              "      <td>Yes</td>\n",
              "      <td>Yes</td>\n",
              "      <td>Yes</td>\n",
              "      <td>No</td>\n",
              "      <td>Yes</td>\n",
              "      <td>Yes</td>\n",
              "    </tr>\n",
              "    <tr>\n",
              "      <th>4</th>\n",
              "      <td>Yes</td>\n",
              "      <td>Yes</td>\n",
              "      <td>Yes</td>\n",
              "      <td>Yes</td>\n",
              "      <td>Yes</td>\n",
              "      <td>Yes</td>\n",
              "      <td>Yes</td>\n",
              "      <td>No</td>\n",
              "      <td>Yes</td>\n",
              "    </tr>\n",
              "  </tbody>\n",
              "</table>\n",
              "</div>\n",
              "      <button class=\"colab-df-convert\" onclick=\"convertToInteractive('df-341ae875-a92a-4bf1-9d59-527973e63995')\"\n",
              "              title=\"Convert this dataframe to an interactive table.\"\n",
              "              style=\"display:none;\">\n",
              "        \n",
              "  <svg xmlns=\"http://www.w3.org/2000/svg\" height=\"24px\"viewBox=\"0 0 24 24\"\n",
              "       width=\"24px\">\n",
              "    <path d=\"M0 0h24v24H0V0z\" fill=\"none\"/>\n",
              "    <path d=\"M18.56 5.44l.94 2.06.94-2.06 2.06-.94-2.06-.94-.94-2.06-.94 2.06-2.06.94zm-11 1L8.5 8.5l.94-2.06 2.06-.94-2.06-.94L8.5 2.5l-.94 2.06-2.06.94zm10 10l.94 2.06.94-2.06 2.06-.94-2.06-.94-.94-2.06-.94 2.06-2.06.94z\"/><path d=\"M17.41 7.96l-1.37-1.37c-.4-.4-.92-.59-1.43-.59-.52 0-1.04.2-1.43.59L10.3 9.45l-7.72 7.72c-.78.78-.78 2.05 0 2.83L4 21.41c.39.39.9.59 1.41.59.51 0 1.02-.2 1.41-.59l7.78-7.78 2.81-2.81c.8-.78.8-2.07 0-2.86zM5.41 20L4 18.59l7.72-7.72 1.47 1.35L5.41 20z\"/>\n",
              "  </svg>\n",
              "      </button>\n",
              "      \n",
              "  <style>\n",
              "    .colab-df-container {\n",
              "      display:flex;\n",
              "      flex-wrap:wrap;\n",
              "      gap: 12px;\n",
              "    }\n",
              "\n",
              "    .colab-df-convert {\n",
              "      background-color: #E8F0FE;\n",
              "      border: none;\n",
              "      border-radius: 50%;\n",
              "      cursor: pointer;\n",
              "      display: none;\n",
              "      fill: #1967D2;\n",
              "      height: 32px;\n",
              "      padding: 0 0 0 0;\n",
              "      width: 32px;\n",
              "    }\n",
              "\n",
              "    .colab-df-convert:hover {\n",
              "      background-color: #E2EBFA;\n",
              "      box-shadow: 0px 1px 2px rgba(60, 64, 67, 0.3), 0px 1px 3px 1px rgba(60, 64, 67, 0.15);\n",
              "      fill: #174EA6;\n",
              "    }\n",
              "\n",
              "    [theme=dark] .colab-df-convert {\n",
              "      background-color: #3B4455;\n",
              "      fill: #D2E3FC;\n",
              "    }\n",
              "\n",
              "    [theme=dark] .colab-df-convert:hover {\n",
              "      background-color: #434B5C;\n",
              "      box-shadow: 0px 1px 3px 1px rgba(0, 0, 0, 0.15);\n",
              "      filter: drop-shadow(0px 1px 2px rgba(0, 0, 0, 0.3));\n",
              "      fill: #FFFFFF;\n",
              "    }\n",
              "  </style>\n",
              "\n",
              "      <script>\n",
              "        const buttonEl =\n",
              "          document.querySelector('#df-341ae875-a92a-4bf1-9d59-527973e63995 button.colab-df-convert');\n",
              "        buttonEl.style.display =\n",
              "          google.colab.kernel.accessAllowed ? 'block' : 'none';\n",
              "\n",
              "        async function convertToInteractive(key) {\n",
              "          const element = document.querySelector('#df-341ae875-a92a-4bf1-9d59-527973e63995');\n",
              "          const dataTable =\n",
              "            await google.colab.kernel.invokeFunction('convertToInteractive',\n",
              "                                                     [key], {});\n",
              "          if (!dataTable) return;\n",
              "\n",
              "          const docLinkHtml = 'Like what you see? Visit the ' +\n",
              "            '<a target=\"_blank\" href=https://colab.research.google.com/notebooks/data_table.ipynb>data table notebook</a>'\n",
              "            + ' to learn more about interactive tables.';\n",
              "          element.innerHTML = '';\n",
              "          dataTable['output_type'] = 'display_data';\n",
              "          await google.colab.output.renderOutput(dataTable, element);\n",
              "          const docLink = document.createElement('div');\n",
              "          docLink.innerHTML = docLinkHtml;\n",
              "          element.appendChild(docLink);\n",
              "        }\n",
              "      </script>\n",
              "    </div>\n",
              "  </div>\n",
              "  "
            ]
          },
          "metadata": {},
          "execution_count": 4
        }
      ]
    },
    {
      "cell_type": "markdown",
      "source": [
        "Dataset Visualization `Adenoviruses` (target)"
      ],
      "metadata": {
        "id": "p3kDVxsm42vl"
      }
    },
    {
      "cell_type": "code",
      "source": [
        "adenoviruses.info()"
      ],
      "metadata": {
        "colab": {
          "base_uri": "https://localhost:8080/"
        },
        "id": "6bn68AG2vydZ",
        "outputId": "87368792-f409-4a53-debf-780795894b7c"
      },
      "execution_count": null,
      "outputs": [
        {
          "output_type": "stream",
          "name": "stdout",
          "text": [
            "<class 'pandas.core.frame.DataFrame'>\n",
            "RangeIndex: 5434 entries, 0 to 5433\n",
            "Data columns (total 9 columns):\n",
            " #   Column                  Non-Null Count  Dtype \n",
            "---  ------                  --------------  ----- \n",
            " 0   Breathing Problem       5434 non-null   object\n",
            " 1   Pink Eye                5434 non-null   object\n",
            " 2   Pneumonia               5434 non-null   object\n",
            " 3   Fever                   5434 non-null   object\n",
            " 4   Acute Gastroenteritis   5434 non-null   object\n",
            " 5   Dry Cough               5434 non-null   object\n",
            " 6   Sore throat             5434 non-null   object\n",
            " 7   Bladder Infection       5434 non-null   object\n",
            " 8   Adenoviruses            5434 non-null   object\n",
            "dtypes: object(9)\n",
            "memory usage: 382.2+ KB\n"
          ]
        }
      ]
    },
    {
      "cell_type": "code",
      "source": [
        "adenoviruses.describe(include='all')"
      ],
      "metadata": {
        "colab": {
          "base_uri": "https://localhost:8080/",
          "height": 175
        },
        "id": "bGFgB7qHvyaJ",
        "outputId": "a1d095a4-cd54-4493-f9c9-86054f4b0bfd"
      },
      "execution_count": null,
      "outputs": [
        {
          "output_type": "execute_result",
          "data": {
            "text/plain": [
              "       Breathing Problem Pink Eye Pneumonia  Fever Acute Gastroenteritis   \\\n",
              "count               5434     5434       5434  5434                   5434   \n",
              "unique                 2        2          2     2                      2   \n",
              "top                  Yes      Yes        Yes   Yes                    Yes   \n",
              "freq                3620     3620       3620  4273                   2820   \n",
              "\n",
              "       Dry Cough Sore throat Bladder Infection Adenoviruses  \n",
              "count       5434        5434              5434         5434  \n",
              "unique         2           2                 2            2  \n",
              "top          Yes         Yes                No          Yes  \n",
              "freq        4307        3953              2920         4383  "
            ],
            "text/html": [
              "\n",
              "  <div id=\"df-5c7a8503-7a0d-4c56-8e45-0d5a88e6079b\">\n",
              "    <div class=\"colab-df-container\">\n",
              "      <div>\n",
              "<style scoped>\n",
              "    .dataframe tbody tr th:only-of-type {\n",
              "        vertical-align: middle;\n",
              "    }\n",
              "\n",
              "    .dataframe tbody tr th {\n",
              "        vertical-align: top;\n",
              "    }\n",
              "\n",
              "    .dataframe thead th {\n",
              "        text-align: right;\n",
              "    }\n",
              "</style>\n",
              "<table border=\"1\" class=\"dataframe\">\n",
              "  <thead>\n",
              "    <tr style=\"text-align: right;\">\n",
              "      <th></th>\n",
              "      <th>Breathing Problem</th>\n",
              "      <th>Pink Eye</th>\n",
              "      <th>Pneumonia</th>\n",
              "      <th>Fever</th>\n",
              "      <th>Acute Gastroenteritis</th>\n",
              "      <th>Dry Cough</th>\n",
              "      <th>Sore throat</th>\n",
              "      <th>Bladder Infection</th>\n",
              "      <th>Adenoviruses</th>\n",
              "    </tr>\n",
              "  </thead>\n",
              "  <tbody>\n",
              "    <tr>\n",
              "      <th>count</th>\n",
              "      <td>5434</td>\n",
              "      <td>5434</td>\n",
              "      <td>5434</td>\n",
              "      <td>5434</td>\n",
              "      <td>5434</td>\n",
              "      <td>5434</td>\n",
              "      <td>5434</td>\n",
              "      <td>5434</td>\n",
              "      <td>5434</td>\n",
              "    </tr>\n",
              "    <tr>\n",
              "      <th>unique</th>\n",
              "      <td>2</td>\n",
              "      <td>2</td>\n",
              "      <td>2</td>\n",
              "      <td>2</td>\n",
              "      <td>2</td>\n",
              "      <td>2</td>\n",
              "      <td>2</td>\n",
              "      <td>2</td>\n",
              "      <td>2</td>\n",
              "    </tr>\n",
              "    <tr>\n",
              "      <th>top</th>\n",
              "      <td>Yes</td>\n",
              "      <td>Yes</td>\n",
              "      <td>Yes</td>\n",
              "      <td>Yes</td>\n",
              "      <td>Yes</td>\n",
              "      <td>Yes</td>\n",
              "      <td>Yes</td>\n",
              "      <td>No</td>\n",
              "      <td>Yes</td>\n",
              "    </tr>\n",
              "    <tr>\n",
              "      <th>freq</th>\n",
              "      <td>3620</td>\n",
              "      <td>3620</td>\n",
              "      <td>3620</td>\n",
              "      <td>4273</td>\n",
              "      <td>2820</td>\n",
              "      <td>4307</td>\n",
              "      <td>3953</td>\n",
              "      <td>2920</td>\n",
              "      <td>4383</td>\n",
              "    </tr>\n",
              "  </tbody>\n",
              "</table>\n",
              "</div>\n",
              "      <button class=\"colab-df-convert\" onclick=\"convertToInteractive('df-5c7a8503-7a0d-4c56-8e45-0d5a88e6079b')\"\n",
              "              title=\"Convert this dataframe to an interactive table.\"\n",
              "              style=\"display:none;\">\n",
              "        \n",
              "  <svg xmlns=\"http://www.w3.org/2000/svg\" height=\"24px\"viewBox=\"0 0 24 24\"\n",
              "       width=\"24px\">\n",
              "    <path d=\"M0 0h24v24H0V0z\" fill=\"none\"/>\n",
              "    <path d=\"M18.56 5.44l.94 2.06.94-2.06 2.06-.94-2.06-.94-.94-2.06-.94 2.06-2.06.94zm-11 1L8.5 8.5l.94-2.06 2.06-.94-2.06-.94L8.5 2.5l-.94 2.06-2.06.94zm10 10l.94 2.06.94-2.06 2.06-.94-2.06-.94-.94-2.06-.94 2.06-2.06.94z\"/><path d=\"M17.41 7.96l-1.37-1.37c-.4-.4-.92-.59-1.43-.59-.52 0-1.04.2-1.43.59L10.3 9.45l-7.72 7.72c-.78.78-.78 2.05 0 2.83L4 21.41c.39.39.9.59 1.41.59.51 0 1.02-.2 1.41-.59l7.78-7.78 2.81-2.81c.8-.78.8-2.07 0-2.86zM5.41 20L4 18.59l7.72-7.72 1.47 1.35L5.41 20z\"/>\n",
              "  </svg>\n",
              "      </button>\n",
              "      \n",
              "  <style>\n",
              "    .colab-df-container {\n",
              "      display:flex;\n",
              "      flex-wrap:wrap;\n",
              "      gap: 12px;\n",
              "    }\n",
              "\n",
              "    .colab-df-convert {\n",
              "      background-color: #E8F0FE;\n",
              "      border: none;\n",
              "      border-radius: 50%;\n",
              "      cursor: pointer;\n",
              "      display: none;\n",
              "      fill: #1967D2;\n",
              "      height: 32px;\n",
              "      padding: 0 0 0 0;\n",
              "      width: 32px;\n",
              "    }\n",
              "\n",
              "    .colab-df-convert:hover {\n",
              "      background-color: #E2EBFA;\n",
              "      box-shadow: 0px 1px 2px rgba(60, 64, 67, 0.3), 0px 1px 3px 1px rgba(60, 64, 67, 0.15);\n",
              "      fill: #174EA6;\n",
              "    }\n",
              "\n",
              "    [theme=dark] .colab-df-convert {\n",
              "      background-color: #3B4455;\n",
              "      fill: #D2E3FC;\n",
              "    }\n",
              "\n",
              "    [theme=dark] .colab-df-convert:hover {\n",
              "      background-color: #434B5C;\n",
              "      box-shadow: 0px 1px 3px 1px rgba(0, 0, 0, 0.15);\n",
              "      filter: drop-shadow(0px 1px 2px rgba(0, 0, 0, 0.3));\n",
              "      fill: #FFFFFF;\n",
              "    }\n",
              "  </style>\n",
              "\n",
              "      <script>\n",
              "        const buttonEl =\n",
              "          document.querySelector('#df-5c7a8503-7a0d-4c56-8e45-0d5a88e6079b button.colab-df-convert');\n",
              "        buttonEl.style.display =\n",
              "          google.colab.kernel.accessAllowed ? 'block' : 'none';\n",
              "\n",
              "        async function convertToInteractive(key) {\n",
              "          const element = document.querySelector('#df-5c7a8503-7a0d-4c56-8e45-0d5a88e6079b');\n",
              "          const dataTable =\n",
              "            await google.colab.kernel.invokeFunction('convertToInteractive',\n",
              "                                                     [key], {});\n",
              "          if (!dataTable) return;\n",
              "\n",
              "          const docLinkHtml = 'Like what you see? Visit the ' +\n",
              "            '<a target=\"_blank\" href=https://colab.research.google.com/notebooks/data_table.ipynb>data table notebook</a>'\n",
              "            + ' to learn more about interactive tables.';\n",
              "          element.innerHTML = '';\n",
              "          dataTable['output_type'] = 'display_data';\n",
              "          await google.colab.output.renderOutput(dataTable, element);\n",
              "          const docLink = document.createElement('div');\n",
              "          docLink.innerHTML = docLinkHtml;\n",
              "          element.appendChild(docLink);\n",
              "        }\n",
              "      </script>\n",
              "    </div>\n",
              "  </div>\n",
              "  "
            ]
          },
          "metadata": {},
          "execution_count": 6
        }
      ]
    },
    {
      "cell_type": "code",
      "source": [
        "adenoviruses.columns"
      ],
      "metadata": {
        "colab": {
          "base_uri": "https://localhost:8080/"
        },
        "id": "jXKZU0mOvyXC",
        "outputId": "b972cbfa-1f84-4571-91e4-e9d1e765f06e"
      },
      "execution_count": null,
      "outputs": [
        {
          "output_type": "execute_result",
          "data": {
            "text/plain": [
              "Index(['Breathing Problem', 'Pink Eye', 'Pneumonia ', 'Fever',\n",
              "       'Acute Gastroenteritis ', 'Dry Cough', 'Sore throat',\n",
              "       'Bladder Infection', 'Adenoviruses'],\n",
              "      dtype='object')"
            ]
          },
          "metadata": {},
          "execution_count": 7
        }
      ]
    },
    {
      "cell_type": "code",
      "source": [
        "adenoviruses.info()"
      ],
      "metadata": {
        "colab": {
          "base_uri": "https://localhost:8080/"
        },
        "id": "ZT0w1xrFvyTp",
        "outputId": "7f3c04f1-52fe-4755-b28c-6f53b14598ba"
      },
      "execution_count": null,
      "outputs": [
        {
          "output_type": "stream",
          "name": "stdout",
          "text": [
            "<class 'pandas.core.frame.DataFrame'>\n",
            "RangeIndex: 5434 entries, 0 to 5433\n",
            "Data columns (total 9 columns):\n",
            " #   Column                  Non-Null Count  Dtype \n",
            "---  ------                  --------------  ----- \n",
            " 0   Breathing Problem       5434 non-null   object\n",
            " 1   Pink Eye                5434 non-null   object\n",
            " 2   Pneumonia               5434 non-null   object\n",
            " 3   Fever                   5434 non-null   object\n",
            " 4   Acute Gastroenteritis   5434 non-null   object\n",
            " 5   Dry Cough               5434 non-null   object\n",
            " 6   Sore throat             5434 non-null   object\n",
            " 7   Bladder Infection       5434 non-null   object\n",
            " 8   Adenoviruses            5434 non-null   object\n",
            "dtypes: object(9)\n",
            "memory usage: 382.2+ KB\n"
          ]
        }
      ]
    },
    {
      "cell_type": "code",
      "source": [
        "stats_covid = adenoviruses.describe()\n",
        "stats_covid.rename({'50%': 'median'}, inplace=True)\n",
        "stats_covid"
      ],
      "metadata": {
        "colab": {
          "base_uri": "https://localhost:8080/",
          "height": 175
        },
        "id": "TWhfcnsZvyP6",
        "outputId": "e39f0153-7403-4b3f-a465-e4d4c2069536"
      },
      "execution_count": null,
      "outputs": [
        {
          "output_type": "execute_result",
          "data": {
            "text/plain": [
              "       Breathing Problem Pink Eye Pneumonia  Fever Acute Gastroenteritis   \\\n",
              "count               5434     5434       5434  5434                   5434   \n",
              "unique                 2        2          2     2                      2   \n",
              "top                  Yes      Yes        Yes   Yes                    Yes   \n",
              "freq                3620     3620       3620  4273                   2820   \n",
              "\n",
              "       Dry Cough Sore throat Bladder Infection Adenoviruses  \n",
              "count       5434        5434              5434         5434  \n",
              "unique         2           2                 2            2  \n",
              "top          Yes         Yes                No          Yes  \n",
              "freq        4307        3953              2920         4383  "
            ],
            "text/html": [
              "\n",
              "  <div id=\"df-aa1ed0d1-bbe3-4ede-9441-7180e5ee696e\">\n",
              "    <div class=\"colab-df-container\">\n",
              "      <div>\n",
              "<style scoped>\n",
              "    .dataframe tbody tr th:only-of-type {\n",
              "        vertical-align: middle;\n",
              "    }\n",
              "\n",
              "    .dataframe tbody tr th {\n",
              "        vertical-align: top;\n",
              "    }\n",
              "\n",
              "    .dataframe thead th {\n",
              "        text-align: right;\n",
              "    }\n",
              "</style>\n",
              "<table border=\"1\" class=\"dataframe\">\n",
              "  <thead>\n",
              "    <tr style=\"text-align: right;\">\n",
              "      <th></th>\n",
              "      <th>Breathing Problem</th>\n",
              "      <th>Pink Eye</th>\n",
              "      <th>Pneumonia</th>\n",
              "      <th>Fever</th>\n",
              "      <th>Acute Gastroenteritis</th>\n",
              "      <th>Dry Cough</th>\n",
              "      <th>Sore throat</th>\n",
              "      <th>Bladder Infection</th>\n",
              "      <th>Adenoviruses</th>\n",
              "    </tr>\n",
              "  </thead>\n",
              "  <tbody>\n",
              "    <tr>\n",
              "      <th>count</th>\n",
              "      <td>5434</td>\n",
              "      <td>5434</td>\n",
              "      <td>5434</td>\n",
              "      <td>5434</td>\n",
              "      <td>5434</td>\n",
              "      <td>5434</td>\n",
              "      <td>5434</td>\n",
              "      <td>5434</td>\n",
              "      <td>5434</td>\n",
              "    </tr>\n",
              "    <tr>\n",
              "      <th>unique</th>\n",
              "      <td>2</td>\n",
              "      <td>2</td>\n",
              "      <td>2</td>\n",
              "      <td>2</td>\n",
              "      <td>2</td>\n",
              "      <td>2</td>\n",
              "      <td>2</td>\n",
              "      <td>2</td>\n",
              "      <td>2</td>\n",
              "    </tr>\n",
              "    <tr>\n",
              "      <th>top</th>\n",
              "      <td>Yes</td>\n",
              "      <td>Yes</td>\n",
              "      <td>Yes</td>\n",
              "      <td>Yes</td>\n",
              "      <td>Yes</td>\n",
              "      <td>Yes</td>\n",
              "      <td>Yes</td>\n",
              "      <td>No</td>\n",
              "      <td>Yes</td>\n",
              "    </tr>\n",
              "    <tr>\n",
              "      <th>freq</th>\n",
              "      <td>3620</td>\n",
              "      <td>3620</td>\n",
              "      <td>3620</td>\n",
              "      <td>4273</td>\n",
              "      <td>2820</td>\n",
              "      <td>4307</td>\n",
              "      <td>3953</td>\n",
              "      <td>2920</td>\n",
              "      <td>4383</td>\n",
              "    </tr>\n",
              "  </tbody>\n",
              "</table>\n",
              "</div>\n",
              "      <button class=\"colab-df-convert\" onclick=\"convertToInteractive('df-aa1ed0d1-bbe3-4ede-9441-7180e5ee696e')\"\n",
              "              title=\"Convert this dataframe to an interactive table.\"\n",
              "              style=\"display:none;\">\n",
              "        \n",
              "  <svg xmlns=\"http://www.w3.org/2000/svg\" height=\"24px\"viewBox=\"0 0 24 24\"\n",
              "       width=\"24px\">\n",
              "    <path d=\"M0 0h24v24H0V0z\" fill=\"none\"/>\n",
              "    <path d=\"M18.56 5.44l.94 2.06.94-2.06 2.06-.94-2.06-.94-.94-2.06-.94 2.06-2.06.94zm-11 1L8.5 8.5l.94-2.06 2.06-.94-2.06-.94L8.5 2.5l-.94 2.06-2.06.94zm10 10l.94 2.06.94-2.06 2.06-.94-2.06-.94-.94-2.06-.94 2.06-2.06.94z\"/><path d=\"M17.41 7.96l-1.37-1.37c-.4-.4-.92-.59-1.43-.59-.52 0-1.04.2-1.43.59L10.3 9.45l-7.72 7.72c-.78.78-.78 2.05 0 2.83L4 21.41c.39.39.9.59 1.41.59.51 0 1.02-.2 1.41-.59l7.78-7.78 2.81-2.81c.8-.78.8-2.07 0-2.86zM5.41 20L4 18.59l7.72-7.72 1.47 1.35L5.41 20z\"/>\n",
              "  </svg>\n",
              "      </button>\n",
              "      \n",
              "  <style>\n",
              "    .colab-df-container {\n",
              "      display:flex;\n",
              "      flex-wrap:wrap;\n",
              "      gap: 12px;\n",
              "    }\n",
              "\n",
              "    .colab-df-convert {\n",
              "      background-color: #E8F0FE;\n",
              "      border: none;\n",
              "      border-radius: 50%;\n",
              "      cursor: pointer;\n",
              "      display: none;\n",
              "      fill: #1967D2;\n",
              "      height: 32px;\n",
              "      padding: 0 0 0 0;\n",
              "      width: 32px;\n",
              "    }\n",
              "\n",
              "    .colab-df-convert:hover {\n",
              "      background-color: #E2EBFA;\n",
              "      box-shadow: 0px 1px 2px rgba(60, 64, 67, 0.3), 0px 1px 3px 1px rgba(60, 64, 67, 0.15);\n",
              "      fill: #174EA6;\n",
              "    }\n",
              "\n",
              "    [theme=dark] .colab-df-convert {\n",
              "      background-color: #3B4455;\n",
              "      fill: #D2E3FC;\n",
              "    }\n",
              "\n",
              "    [theme=dark] .colab-df-convert:hover {\n",
              "      background-color: #434B5C;\n",
              "      box-shadow: 0px 1px 3px 1px rgba(0, 0, 0, 0.15);\n",
              "      filter: drop-shadow(0px 1px 2px rgba(0, 0, 0, 0.3));\n",
              "      fill: #FFFFFF;\n",
              "    }\n",
              "  </style>\n",
              "\n",
              "      <script>\n",
              "        const buttonEl =\n",
              "          document.querySelector('#df-aa1ed0d1-bbe3-4ede-9441-7180e5ee696e button.colab-df-convert');\n",
              "        buttonEl.style.display =\n",
              "          google.colab.kernel.accessAllowed ? 'block' : 'none';\n",
              "\n",
              "        async function convertToInteractive(key) {\n",
              "          const element = document.querySelector('#df-aa1ed0d1-bbe3-4ede-9441-7180e5ee696e');\n",
              "          const dataTable =\n",
              "            await google.colab.kernel.invokeFunction('convertToInteractive',\n",
              "                                                     [key], {});\n",
              "          if (!dataTable) return;\n",
              "\n",
              "          const docLinkHtml = 'Like what you see? Visit the ' +\n",
              "            '<a target=\"_blank\" href=https://colab.research.google.com/notebooks/data_table.ipynb>data table notebook</a>'\n",
              "            + ' to learn more about interactive tables.';\n",
              "          element.innerHTML = '';\n",
              "          dataTable['output_type'] = 'display_data';\n",
              "          await google.colab.output.renderOutput(dataTable, element);\n",
              "          const docLink = document.createElement('div');\n",
              "          docLink.innerHTML = docLinkHtml;\n",
              "          element.appendChild(docLink);\n",
              "        }\n",
              "      </script>\n",
              "    </div>\n",
              "  </div>\n",
              "  "
            ]
          },
          "metadata": {},
          "execution_count": 9
        }
      ]
    },
    {
      "cell_type": "code",
      "source": [
        "sns.countplot(x='Adenoviruses',data=adenoviruses)"
      ],
      "metadata": {
        "colab": {
          "base_uri": "https://localhost:8080/",
          "height": 296
        },
        "id": "Z6uYZF3DvyKy",
        "outputId": "7157c35b-54fb-4252-a012-401a5d3af282"
      },
      "execution_count": null,
      "outputs": [
        {
          "output_type": "execute_result",
          "data": {
            "text/plain": [
              "<AxesSubplot:xlabel='Adenoviruses', ylabel='count'>"
            ]
          },
          "metadata": {},
          "execution_count": 10
        },
        {
          "output_type": "display_data",
          "data": {
            "text/plain": [
              "<Figure size 432x288 with 1 Axes>"
            ],
            "image/png": "[encoded data removed]"
          },
          "metadata": {
            "needs_background": "light"
          }
        }
      ]
    },
    {
      "cell_type": "code",
      "source": [
        "adenoviruses[\"Adenoviruses\"].value_counts().plot.pie(explode=[0.1,0.1],autopct='%1.1f%%',shadow=True)\n",
        "plt.title('number of cases');"
      ],
      "metadata": {
        "colab": {
          "base_uri": "https://localhost:8080/",
          "height": 264
        },
        "id": "NYFCtNfowbWD",
        "outputId": "5feb1a89-15ef-4231-8f4a-6669bf505ad3"
      },
      "execution_count": null,
      "outputs": [
        {
          "output_type": "display_data",
          "data": {
            "text/plain": [
              "<Figure size 432x288 with 1 Axes>"
            ],
            "image/png": "[encoded data removed]"
          },
          "metadata": {}
        }
      ]
    },
    {
      "cell_type": "code",
      "source": [
        "sns.countplot(x='Breathing Problem',data=adenoviruses)"
      ],
      "metadata": {
        "colab": {
          "base_uri": "https://localhost:8080/",
          "height": 296
        },
        "id": "qF_UjwbMwbTQ",
        "outputId": "b2bf009b-dd65-4904-d413-9ecd3e7e34ef"
      },
      "execution_count": null,
      "outputs": [
        {
          "output_type": "execute_result",
          "data": {
            "text/plain": [
              "<AxesSubplot:xlabel='Breathing Problem', ylabel='count'>"
            ]
          },
          "metadata": {},
          "execution_count": 12
        },
        {
          "output_type": "display_data",
          "data": {
            "text/plain": [
              "<Figure size 432x288 with 1 Axes>"
            ],
            "image/png": "[encoded data removed]"
          },
          "metadata": {
            "needs_background": "light"
          }
        }
      ]
    },
    {
      "cell_type": "markdown",
      "source": [
        "`Breathing Problem`"
      ],
      "metadata": {
        "id": "gLnvHb2H5SvD"
      }
    },
    {
      "cell_type": "code",
      "source": [
        "sns.countplot(x='Breathing Problem',hue='Adenoviruses',data=adenoviruses)"
      ],
      "metadata": {
        "colab": {
          "base_uri": "https://localhost:8080/",
          "height": 298
        },
        "id": "pYHlkVqqwbQh",
        "outputId": "bd4b48a2-3347-46c8-c43d-3a2fde2becaa"
      },
      "execution_count": null,
      "outputs": [
        {
          "output_type": "execute_result",
          "data": {
            "text/plain": [
              "<AxesSubplot:xlabel='Breathing Problem', ylabel='count'>"
            ]
          },
          "metadata": {},
          "execution_count": 13
        },
        {
          "output_type": "display_data",
          "data": {
            "text/plain": [
              "<Figure size 432x288 with 1 Axes>"
            ],
            "image/png": "[encoded data removed]"
          },
          "metadata": {
            "needs_background": "light"
          }
        }
      ]
    },
    {
      "cell_type": "markdown",
      "source": [
        "`Pink Eye`"
      ],
      "metadata": {
        "id": "2qpyWzNK5NnC"
      }
    },
    {
      "cell_type": "code",
      "source": [
        "sns.countplot(x='Pink Eye',hue='Adenoviruses',data=adenoviruses);"
      ],
      "metadata": {
        "colab": {
          "base_uri": "https://localhost:8080/",
          "height": 281
        },
        "id": "d0UUYnQjwbN2",
        "outputId": "8602fb0c-4110-48f1-cba5-10290d8c2e67"
      },
      "execution_count": null,
      "outputs": [
        {
          "output_type": "display_data",
          "data": {
            "text/plain": [
              "<Figure size 432x288 with 1 Axes>"
            ],
            "image/png": "[encoded data removed]"
          },
          "metadata": {
            "needs_background": "light"
          }
        }
      ]
    },
    {
      "cell_type": "markdown",
      "source": [
        "`Fever`"
      ],
      "metadata": {
        "id": "Yw4f5aDn5Zgd"
      }
    },
    {
      "cell_type": "code",
      "source": [
        "sns.countplot(x='Fever',hue='Adenoviruses',data=adenoviruses)"
      ],
      "metadata": {
        "colab": {
          "base_uri": "https://localhost:8080/",
          "height": 296
        },
        "id": "ECW0Sxh7wbKq",
        "outputId": "22e46e7a-5d55-4ac7-96df-1728b2138071"
      },
      "execution_count": null,
      "outputs": [
        {
          "output_type": "execute_result",
          "data": {
            "text/plain": [
              "<AxesSubplot:xlabel='Fever', ylabel='count'>"
            ]
          },
          "metadata": {},
          "execution_count": 15
        },
        {
          "output_type": "display_data",
          "data": {
            "text/plain": [
              "<Figure size 432x288 with 1 Axes>"
            ],
            "image/png": "[encoded data removed]"
          },
          "metadata": {
            "needs_background": "light"
          }
        }
      ]
    },
    {
      "cell_type": "markdown",
      "source": [
        "`Dry Cough`"
      ],
      "metadata": {
        "id": "0x4I3CLV5a30"
      }
    },
    {
      "cell_type": "code",
      "source": [
        "sns.countplot(x='Dry Cough',hue='Adenoviruses',data=adenoviruses)"
      ],
      "metadata": {
        "colab": {
          "base_uri": "https://localhost:8080/",
          "height": 297
        },
        "id": "0YvrjbcywbHJ",
        "outputId": "65b57ab9-946c-42f2-9bd2-8ca3b787b109"
      },
      "execution_count": null,
      "outputs": [
        {
          "output_type": "execute_result",
          "data": {
            "text/plain": [
              "<AxesSubplot:xlabel='Dry Cough', ylabel='count'>"
            ]
          },
          "metadata": {},
          "execution_count": 16
        },
        {
          "output_type": "display_data",
          "data": {
            "text/plain": [
              "<Figure size 432x288 with 1 Axes>"
            ],
            "image/png": "[encoded data removed]"
          },
          "metadata": {
            "needs_background": "light"
          }
        }
      ]
    },
    {
      "cell_type": "markdown",
      "source": [
        "`Bladder Infection`"
      ],
      "metadata": {
        "id": "3WQp7mFs5f7k"
      }
    },
    {
      "cell_type": "code",
      "source": [
        "sns.countplot(x='Bladder Infection',hue='Adenoviruses',data=adenoviruses)"
      ],
      "metadata": {
        "colab": {
          "base_uri": "https://localhost:8080/",
          "height": 296
        },
        "id": "N3vEyM5Cy3Ok",
        "outputId": "c86b1721-1c11-4a12-b8a4-362f669c5823"
      },
      "execution_count": null,
      "outputs": [
        {
          "output_type": "execute_result",
          "data": {
            "text/plain": [
              "<AxesSubplot:xlabel='Bladder Infection', ylabel='count'>"
            ]
          },
          "metadata": {},
          "execution_count": 17
        },
        {
          "output_type": "display_data",
          "data": {
            "text/plain": [
              "<Figure size 432x288 with 1 Axes>"
            ],
            "image/png": "[encoded data removed]"
          },
          "metadata": {
            "needs_background": "light"
          }
        }
      ]
    },
    {
      "cell_type": "markdown",
      "source": [
        "Feature transformation"
      ],
      "metadata": {
        "id": "aZqgvPQp5ma0"
      }
    },
    {
      "cell_type": "code",
      "source": [
        "from sklearn.preprocessing import LabelEncoder\n",
        "e=LabelEncoder()"
      ],
      "metadata": {
        "id": "-ycGVCRky3Ln"
      },
      "execution_count": null,
      "outputs": []
    },
    {
      "cell_type": "code",
      "source": [
        "adenoviruses['Breathing Problem']=e.fit_transform(adenoviruses['Breathing Problem'])\n",
        "adenoviruses['Pink Eye']=e.fit_transform(adenoviruses['Pink Eye'])\n",
        "adenoviruses['Pneumonia ']=e.fit_transform(adenoviruses['Pneumonia '])\n",
        "adenoviruses['Fever']=e.fit_transform(adenoviruses['Fever'])\n",
        "adenoviruses['Acute Gastroenteritis ']=e.fit_transform(adenoviruses['Acute Gastroenteritis '])\n",
        "adenoviruses['Dry Cough']=e.fit_transform(adenoviruses['Dry Cough'])\n",
        "adenoviruses['Sore throat']=e.fit_transform(adenoviruses['Sore throat'])\n",
        "adenoviruses['Bladder Infection']=e.fit_transform(adenoviruses['Bladder Infection'])\n",
        "adenoviruses['Adenoviruses']=e.fit_transform(adenoviruses['Adenoviruses'])"
      ],
      "metadata": {
        "id": "xFGaJ3gFy3JV"
      },
      "execution_count": null,
      "outputs": []
    },
    {
      "cell_type": "code",
      "source": [
        "adenoviruses.head()"
      ],
      "metadata": {
        "colab": {
          "base_uri": "https://localhost:8080/",
          "height": 206
        },
        "id": "HrZ-aFB_y3GX",
        "outputId": "0da1af54-8435-48eb-eae9-d633439ec4b5"
      },
      "execution_count": null,
      "outputs": [
        {
          "output_type": "execute_result",
          "data": {
            "text/plain": [
              "   Breathing Problem  Pink Eye  Pneumonia   Fever  Acute Gastroenteritis   \\\n",
              "0                  1         1           1      1                       1   \n",
              "1                  1         1           1      1                       1   \n",
              "2                  1         1           1      1                       0   \n",
              "3                  1         1           1      1                       1   \n",
              "4                  1         1           1      1                       1   \n",
              "\n",
              "   Dry Cough  Sore throat  Bladder Infection  Adenoviruses  \n",
              "0          1            1                  0             1  \n",
              "1          1            1                  1             1  \n",
              "2          1            1                  1             1  \n",
              "3          1            0                  1             1  \n",
              "4          1            1                  0             1  "
            ],
            "text/html": [
              "\n",
              "  <div id=\"df-402d35f8-aee3-49fe-aa14-bdb839d167e8\">\n",
              "    <div class=\"colab-df-container\">\n",
              "      <div>\n",
              "<style scoped>\n",
              "    .dataframe tbody tr th:only-of-type {\n",
              "        vertical-align: middle;\n",
              "    }\n",
              "\n",
              "    .dataframe tbody tr th {\n",
              "        vertical-align: top;\n",
              "    }\n",
              "\n",
              "    .dataframe thead th {\n",
              "        text-align: right;\n",
              "    }\n",
              "</style>\n",
              "<table border=\"1\" class=\"dataframe\">\n",
              "  <thead>\n",
              "    <tr style=\"text-align: right;\">\n",
              "      <th></th>\n",
              "      <th>Breathing Problem</th>\n",
              "      <th>Pink Eye</th>\n",
              "      <th>Pneumonia</th>\n",
              "      <th>Fever</th>\n",
              "      <th>Acute Gastroenteritis</th>\n",
              "      <th>Dry Cough</th>\n",
              "      <th>Sore throat</th>\n",
              "      <th>Bladder Infection</th>\n",
              "      <th>Adenoviruses</th>\n",
              "    </tr>\n",
              "  </thead>\n",
              "  <tbody>\n",
              "    <tr>\n",
              "      <th>0</th>\n",
              "      <td>1</td>\n",
              "      <td>1</td>\n",
              "      <td>1</td>\n",
              "      <td>1</td>\n",
              "      <td>1</td>\n",
              "      <td>1</td>\n",
              "      <td>1</td>\n",
              "      <td>0</td>\n",
              "      <td>1</td>\n",
              "    </tr>\n",
              "    <tr>\n",
              "      <th>1</th>\n",
              "      <td>1</td>\n",
              "      <td>1</td>\n",
              "      <td>1</td>\n",
              "      <td>1</td>\n",
              "      <td>1</td>\n",
              "      <td>1</td>\n",
              "      <td>1</td>\n",
              "      <td>1</td>\n",
              "      <td>1</td>\n",
              "    </tr>\n",
              "    <tr>\n",
              "      <th>2</th>\n",
              "      <td>1</td>\n",
              "      <td>1</td>\n",
              "      <td>1</td>\n",
              "      <td>1</td>\n",
              "      <td>0</td>\n",
              "      <td>1</td>\n",
              "      <td>1</td>\n",
              "      <td>1</td>\n",
              "      <td>1</td>\n",
              "    </tr>\n",
              "    <tr>\n",
              "      <th>3</th>\n",
              "      <td>1</td>\n",
              "      <td>1</td>\n",
              "      <td>1</td>\n",
              "      <td>1</td>\n",
              "      <td>1</td>\n",
              "      <td>1</td>\n",
              "      <td>0</td>\n",
              "      <td>1</td>\n",
              "      <td>1</td>\n",
              "    </tr>\n",
              "    <tr>\n",
              "      <th>4</th>\n",
              "      <td>1</td>\n",
              "      <td>1</td>\n",
              "      <td>1</td>\n",
              "      <td>1</td>\n",
              "      <td>1</td>\n",
              "      <td>1</td>\n",
              "      <td>1</td>\n",
              "      <td>0</td>\n",
              "      <td>1</td>\n",
              "    </tr>\n",
              "  </tbody>\n",
              "</table>\n",
              "</div>\n",
              "      <button class=\"colab-df-convert\" onclick=\"convertToInteractive('df-402d35f8-aee3-49fe-aa14-bdb839d167e8')\"\n",
              "              title=\"Convert this dataframe to an interactive table.\"\n",
              "              style=\"display:none;\">\n",
              "        \n",
              "  <svg xmlns=\"http://www.w3.org/2000/svg\" height=\"24px\"viewBox=\"0 0 24 24\"\n",
              "       width=\"24px\">\n",
              "    <path d=\"M0 0h24v24H0V0z\" fill=\"none\"/>\n",
              "    <path d=\"M18.56 5.44l.94 2.06.94-2.06 2.06-.94-2.06-.94-.94-2.06-.94 2.06-2.06.94zm-11 1L8.5 8.5l.94-2.06 2.06-.94-2.06-.94L8.5 2.5l-.94 2.06-2.06.94zm10 10l.94 2.06.94-2.06 2.06-.94-2.06-.94-.94-2.06-.94 2.06-2.06.94z\"/><path d=\"M17.41 7.96l-1.37-1.37c-.4-.4-.92-.59-1.43-.59-.52 0-1.04.2-1.43.59L10.3 9.45l-7.72 7.72c-.78.78-.78 2.05 0 2.83L4 21.41c.39.39.9.59 1.41.59.51 0 1.02-.2 1.41-.59l7.78-7.78 2.81-2.81c.8-.78.8-2.07 0-2.86zM5.41 20L4 18.59l7.72-7.72 1.47 1.35L5.41 20z\"/>\n",
              "  </svg>\n",
              "      </button>\n",
              "      \n",
              "  <style>\n",
              "    .colab-df-container {\n",
              "      display:flex;\n",
              "      flex-wrap:wrap;\n",
              "      gap: 12px;\n",
              "    }\n",
              "\n",
              "    .colab-df-convert {\n",
              "      background-color: #E8F0FE;\n",
              "      border: none;\n",
              "      border-radius: 50%;\n",
              "      cursor: pointer;\n",
              "      display: none;\n",
              "      fill: #1967D2;\n",
              "      height: 32px;\n",
              "      padding: 0 0 0 0;\n",
              "      width: 32px;\n",
              "    }\n",
              "\n",
              "    .colab-df-convert:hover {\n",
              "      background-color: #E2EBFA;\n",
              "      box-shadow: 0px 1px 2px rgba(60, 64, 67, 0.3), 0px 1px 3px 1px rgba(60, 64, 67, 0.15);\n",
              "      fill: #174EA6;\n",
              "    }\n",
              "\n",
              "    [theme=dark] .colab-df-convert {\n",
              "      background-color: #3B4455;\n",
              "      fill: #D2E3FC;\n",
              "    }\n",
              "\n",
              "    [theme=dark] .colab-df-convert:hover {\n",
              "      background-color: #434B5C;\n",
              "      box-shadow: 0px 1px 3px 1px rgba(0, 0, 0, 0.15);\n",
              "      filter: drop-shadow(0px 1px 2px rgba(0, 0, 0, 0.3));\n",
              "      fill: #FFFFFF;\n",
              "    }\n",
              "  </style>\n",
              "\n",
              "      <script>\n",
              "        const buttonEl =\n",
              "          document.querySelector('#df-402d35f8-aee3-49fe-aa14-bdb839d167e8 button.colab-df-convert');\n",
              "        buttonEl.style.display =\n",
              "          google.colab.kernel.accessAllowed ? 'block' : 'none';\n",
              "\n",
              "        async function convertToInteractive(key) {\n",
              "          const element = document.querySelector('#df-402d35f8-aee3-49fe-aa14-bdb839d167e8');\n",
              "          const dataTable =\n",
              "            await google.colab.kernel.invokeFunction('convertToInteractive',\n",
              "                                                     [key], {});\n",
              "          if (!dataTable) return;\n",
              "\n",
              "          const docLinkHtml = 'Like what you see? Visit the ' +\n",
              "            '<a target=\"_blank\" href=https://colab.research.google.com/notebooks/data_table.ipynb>data table notebook</a>'\n",
              "            + ' to learn more about interactive tables.';\n",
              "          element.innerHTML = '';\n",
              "          dataTable['output_type'] = 'display_data';\n",
              "          await google.colab.output.renderOutput(dataTable, element);\n",
              "          const docLink = document.createElement('div');\n",
              "          docLink.innerHTML = docLinkHtml;\n",
              "          element.appendChild(docLink);\n",
              "        }\n",
              "      </script>\n",
              "    </div>\n",
              "  </div>\n",
              "  "
            ]
          },
          "metadata": {},
          "execution_count": 20
        }
      ]
    },
    {
      "cell_type": "code",
      "source": [
        "adenoviruses.dtypes.value_counts()"
      ],
      "metadata": {
        "colab": {
          "base_uri": "https://localhost:8080/"
        },
        "id": "hwzI1Nqsy3Dt",
        "outputId": "35401f49-17ea-452d-fb38-9ae4944b85b4"
      },
      "execution_count": null,
      "outputs": [
        {
          "output_type": "execute_result",
          "data": {
            "text/plain": [
              "int64    9\n",
              "dtype: int64"
            ]
          },
          "metadata": {},
          "execution_count": 21
        }
      ]
    },
    {
      "cell_type": "markdown",
      "source": [
        "Info about our data after transformation"
      ],
      "metadata": {
        "id": "MpU_xZhH0nbq"
      }
    },
    {
      "cell_type": "code",
      "source": [
        "adenoviruses.describe(include='all')"
      ],
      "metadata": {
        "colab": {
          "base_uri": "https://localhost:8080/",
          "height": 300
        },
        "id": "h-PImIWgy3A1",
        "outputId": "90bd3c43-711a-4e26-fc1b-8d5a9464c5b4"
      },
      "execution_count": null,
      "outputs": [
        {
          "output_type": "execute_result",
          "data": {
            "text/plain": [
              "       Breathing Problem     Pink Eye   Pneumonia         Fever  \\\n",
              "count        5434.000000  5434.000000  5434.000000  5434.000000   \n",
              "mean            0.666176     0.666176     0.666176     0.786345   \n",
              "std             0.471621     0.471621     0.471621     0.409924   \n",
              "min             0.000000     0.000000     0.000000     0.000000   \n",
              "25%             0.000000     0.000000     0.000000     1.000000   \n",
              "50%             1.000000     1.000000     1.000000     1.000000   \n",
              "75%             1.000000     1.000000     1.000000     1.000000   \n",
              "max             1.000000     1.000000     1.000000     1.000000   \n",
              "\n",
              "       Acute Gastroenteritis     Dry Cough  Sore throat  Bladder Infection  \\\n",
              "count             5434.000000  5434.000000  5434.000000        5434.000000   \n",
              "mean                 0.518955     0.792602     0.727457           0.462643   \n",
              "std                  0.499687     0.405480     0.445309           0.498648   \n",
              "min                  0.000000     0.000000     0.000000           0.000000   \n",
              "25%                  0.000000     1.000000     0.000000           0.000000   \n",
              "50%                  1.000000     1.000000     1.000000           0.000000   \n",
              "75%                  1.000000     1.000000     1.000000           1.000000   \n",
              "max                  1.000000     1.000000     1.000000           1.000000   \n",
              "\n",
              "       Adenoviruses  \n",
              "count   5434.000000  \n",
              "mean       0.806588  \n",
              "std        0.395009  \n",
              "min        0.000000  \n",
              "25%        1.000000  \n",
              "50%        1.000000  \n",
              "75%        1.000000  \n",
              "max        1.000000  "
            ],
            "text/html": [
              "\n",
              "  <div id=\"df-aa5ced72-4dcb-4449-b726-12a3d0fef595\">\n",
              "    <div class=\"colab-df-container\">\n",
              "      <div>\n",
              "<style scoped>\n",
              "    .dataframe tbody tr th:only-of-type {\n",
              "        vertical-align: middle;\n",
              "    }\n",
              "\n",
              "    .dataframe tbody tr th {\n",
              "        vertical-align: top;\n",
              "    }\n",
              "\n",
              "    .dataframe thead th {\n",
              "        text-align: right;\n",
              "    }\n",
              "</style>\n",
              "<table border=\"1\" class=\"dataframe\">\n",
              "  <thead>\n",
              "    <tr style=\"text-align: right;\">\n",
              "      <th></th>\n",
              "      <th>Breathing Problem</th>\n",
              "      <th>Pink Eye</th>\n",
              "      <th>Pneumonia</th>\n",
              "      <th>Fever</th>\n",
              "      <th>Acute Gastroenteritis</th>\n",
              "      <th>Dry Cough</th>\n",
              "      <th>Sore throat</th>\n",
              "      <th>Bladder Infection</th>\n",
              "      <th>Adenoviruses</th>\n",
              "    </tr>\n",
              "  </thead>\n",
              "  <tbody>\n",
              "    <tr>\n",
              "      <th>count</th>\n",
              "      <td>5434.000000</td>\n",
              "      <td>5434.000000</td>\n",
              "      <td>5434.000000</td>\n",
              "      <td>5434.000000</td>\n",
              "      <td>5434.000000</td>\n",
              "      <td>5434.000000</td>\n",
              "      <td>5434.000000</td>\n",
              "      <td>5434.000000</td>\n",
              "      <td>5434.000000</td>\n",
              "    </tr>\n",
              "    <tr>\n",
              "      <th>mean</th>\n",
              "      <td>0.666176</td>\n",
              "      <td>0.666176</td>\n",
              "      <td>0.666176</td>\n",
              "      <td>0.786345</td>\n",
              "      <td>0.518955</td>\n",
              "      <td>0.792602</td>\n",
              "      <td>0.727457</td>\n",
              "      <td>0.462643</td>\n",
              "      <td>0.806588</td>\n",
              "    </tr>\n",
              "    <tr>\n",
              "      <th>std</th>\n",
              "      <td>0.471621</td>\n",
              "      <td>0.471621</td>\n",
              "      <td>0.471621</td>\n",
              "      <td>0.409924</td>\n",
              "      <td>0.499687</td>\n",
              "      <td>0.405480</td>\n",
              "      <td>0.445309</td>\n",
              "      <td>0.498648</td>\n",
              "      <td>0.395009</td>\n",
              "    </tr>\n",
              "    <tr>\n",
              "      <th>min</th>\n",
              "      <td>0.000000</td>\n",
              "      <td>0.000000</td>\n",
              "      <td>0.000000</td>\n",
              "      <td>0.000000</td>\n",
              "      <td>0.000000</td>\n",
              "      <td>0.000000</td>\n",
              "      <td>0.000000</td>\n",
              "      <td>0.000000</td>\n",
              "      <td>0.000000</td>\n",
              "    </tr>\n",
              "    <tr>\n",
              "      <th>25%</th>\n",
              "      <td>0.000000</td>\n",
              "      <td>0.000000</td>\n",
              "      <td>0.000000</td>\n",
              "      <td>1.000000</td>\n",
              "      <td>0.000000</td>\n",
              "      <td>1.000000</td>\n",
              "      <td>0.000000</td>\n",
              "      <td>0.000000</td>\n",
              "      <td>1.000000</td>\n",
              "    </tr>\n",
              "    <tr>\n",
              "      <th>50%</th>\n",
              "      <td>1.000000</td>\n",
              "      <td>1.000000</td>\n",
              "      <td>1.000000</td>\n",
              "      <td>1.000000</td>\n",
              "      <td>1.000000</td>\n",
              "      <td>1.000000</td>\n",
              "      <td>1.000000</td>\n",
              "      <td>0.000000</td>\n",
              "      <td>1.000000</td>\n",
              "    </tr>\n",
              "    <tr>\n",
              "      <th>75%</th>\n",
              "      <td>1.000000</td>\n",
              "      <td>1.000000</td>\n",
              "      <td>1.000000</td>\n",
              "      <td>1.000000</td>\n",
              "      <td>1.000000</td>\n",
              "      <td>1.000000</td>\n",
              "      <td>1.000000</td>\n",
              "      <td>1.000000</td>\n",
              "      <td>1.000000</td>\n",
              "    </tr>\n",
              "    <tr>\n",
              "      <th>max</th>\n",
              "      <td>1.000000</td>\n",
              "      <td>1.000000</td>\n",
              "      <td>1.000000</td>\n",
              "      <td>1.000000</td>\n",
              "      <td>1.000000</td>\n",
              "      <td>1.000000</td>\n",
              "      <td>1.000000</td>\n",
              "      <td>1.000000</td>\n",
              "      <td>1.000000</td>\n",
              "    </tr>\n",
              "  </tbody>\n",
              "</table>\n",
              "</div>\n",
              "      <button class=\"colab-df-convert\" onclick=\"convertToInteractive('df-aa5ced72-4dcb-4449-b726-12a3d0fef595')\"\n",
              "              title=\"Convert this dataframe to an interactive table.\"\n",
              "              style=\"display:none;\">\n",
              "        \n",
              "  <svg xmlns=\"http://www.w3.org/2000/svg\" height=\"24px\"viewBox=\"0 0 24 24\"\n",
              "       width=\"24px\">\n",
              "    <path d=\"M0 0h24v24H0V0z\" fill=\"none\"/>\n",
              "    <path d=\"M18.56 5.44l.94 2.06.94-2.06 2.06-.94-2.06-.94-.94-2.06-.94 2.06-2.06.94zm-11 1L8.5 8.5l.94-2.06 2.06-.94-2.06-.94L8.5 2.5l-.94 2.06-2.06.94zm10 10l.94 2.06.94-2.06 2.06-.94-2.06-.94-.94-2.06-.94 2.06-2.06.94z\"/><path d=\"M17.41 7.96l-1.37-1.37c-.4-.4-.92-.59-1.43-.59-.52 0-1.04.2-1.43.59L10.3 9.45l-7.72 7.72c-.78.78-.78 2.05 0 2.83L4 21.41c.39.39.9.59 1.41.59.51 0 1.02-.2 1.41-.59l7.78-7.78 2.81-2.81c.8-.78.8-2.07 0-2.86zM5.41 20L4 18.59l7.72-7.72 1.47 1.35L5.41 20z\"/>\n",
              "  </svg>\n",
              "      </button>\n",
              "      \n",
              "  <style>\n",
              "    .colab-df-container {\n",
              "      display:flex;\n",
              "      flex-wrap:wrap;\n",
              "      gap: 12px;\n",
              "    }\n",
              "\n",
              "    .colab-df-convert {\n",
              "      background-color: #E8F0FE;\n",
              "      border: none;\n",
              "      border-radius: 50%;\n",
              "      cursor: pointer;\n",
              "      display: none;\n",
              "      fill: #1967D2;\n",
              "      height: 32px;\n",
              "      padding: 0 0 0 0;\n",
              "      width: 32px;\n",
              "    }\n",
              "\n",
              "    .colab-df-convert:hover {\n",
              "      background-color: #E2EBFA;\n",
              "      box-shadow: 0px 1px 2px rgba(60, 64, 67, 0.3), 0px 1px 3px 1px rgba(60, 64, 67, 0.15);\n",
              "      fill: #174EA6;\n",
              "    }\n",
              "\n",
              "    [theme=dark] .colab-df-convert {\n",
              "      background-color: #3B4455;\n",
              "      fill: #D2E3FC;\n",
              "    }\n",
              "\n",
              "    [theme=dark] .colab-df-convert:hover {\n",
              "      background-color: #434B5C;\n",
              "      box-shadow: 0px 1px 3px 1px rgba(0, 0, 0, 0.15);\n",
              "      filter: drop-shadow(0px 1px 2px rgba(0, 0, 0, 0.3));\n",
              "      fill: #FFFFFF;\n",
              "    }\n",
              "  </style>\n",
              "\n",
              "      <script>\n",
              "        const buttonEl =\n",
              "          document.querySelector('#df-aa5ced72-4dcb-4449-b726-12a3d0fef595 button.colab-df-convert');\n",
              "        buttonEl.style.display =\n",
              "          google.colab.kernel.accessAllowed ? 'block' : 'none';\n",
              "\n",
              "        async function convertToInteractive(key) {\n",
              "          const element = document.querySelector('#df-aa5ced72-4dcb-4449-b726-12a3d0fef595');\n",
              "          const dataTable =\n",
              "            await google.colab.kernel.invokeFunction('convertToInteractive',\n",
              "                                                     [key], {});\n",
              "          if (!dataTable) return;\n",
              "\n",
              "          const docLinkHtml = 'Like what you see? Visit the ' +\n",
              "            '<a target=\"_blank\" href=https://colab.research.google.com/notebooks/data_table.ipynb>data table notebook</a>'\n",
              "            + ' to learn more about interactive tables.';\n",
              "          element.innerHTML = '';\n",
              "          dataTable['output_type'] = 'display_data';\n",
              "          await google.colab.output.renderOutput(dataTable, element);\n",
              "          const docLink = document.createElement('div');\n",
              "          docLink.innerHTML = docLinkHtml;\n",
              "          element.appendChild(docLink);\n",
              "        }\n",
              "      </script>\n",
              "    </div>\n",
              "  </div>\n",
              "  "
            ]
          },
          "metadata": {},
          "execution_count": 22
        }
      ]
    },
    {
      "cell_type": "code",
      "source": [
        "adenoviruses.hist(figsize=(20,15));"
      ],
      "metadata": {
        "colab": {
          "base_uri": "https://localhost:8080/",
          "height": 879
        },
        "id": "CH9PB-xPy2-J",
        "outputId": "1eeee049-c2bd-493f-d0f7-f5d5a6620c77"
      },
      "execution_count": null,
      "outputs": [
        {
          "output_type": "display_data",
          "data": {
            "text/plain": [
              "<Figure size 1440x1080 with 9 Axes>"
            ],
            "image/png": "[encoded data removed]"
          },
          "metadata": {
            "needs_background": "light"
          }
        }
      ]
    },
    {
      "cell_type": "markdown",
      "source": [
        "Correlation betwenn features"
      ],
      "metadata": {
        "id": "dueAJghQ05QU"
      }
    },
    {
      "cell_type": "code",
      "source": [
        "corr=adenoviruses.corr()\n",
        "corr.style.background_gradient(cmap='coolwarm',axis=None)"
      ],
      "metadata": {
        "colab": {
          "base_uri": "https://localhost:8080/",
          "height": 331
        },
        "id": "K0JH5rXly27Q",
        "outputId": "66dc6ccc-da34-43bd-aefb-04ce7e6d394e"
      },
      "execution_count": null,
      "outputs": [
        {
          "output_type": "execute_result",
          "data": {
            "text/plain": [
              "<pandas.io.formats.style.Styler at 0x7fddd215d280>"
            ],
            "text/html": [
              "<style type=\"text/css\">\n",
              "#T_ae963_row0_col0, #T_ae963_row0_col1, #T_ae963_row0_col2, #T_ae963_row1_col0, #T_ae963_row1_col1, #T_ae963_row1_col2, #T_ae963_row2_col0, #T_ae963_row2_col1, #T_ae963_row2_col2, #T_ae963_row3_col3, #T_ae963_row4_col4, #T_ae963_row5_col5, #T_ae963_row6_col6, #T_ae963_row7_col7, #T_ae963_row8_col8 {\n",
              "  background-color: #b40426;\n",
              "  color: #f1f1f1;\n",
              "}\n",
              "#T_ae963_row0_col3, #T_ae963_row1_col3, #T_ae963_row2_col3, #T_ae963_row3_col0, #T_ae963_row3_col1, #T_ae963_row3_col2, #T_ae963_row7_col8, #T_ae963_row8_col7 {\n",
              "  background-color: #5572df;\n",
              "  color: #f1f1f1;\n",
              "}\n",
              "#T_ae963_row0_col4, #T_ae963_row1_col4, #T_ae963_row2_col4, #T_ae963_row4_col0, #T_ae963_row4_col1, #T_ae963_row4_col2 {\n",
              "  background-color: #4e68d8;\n",
              "  color: #f1f1f1;\n",
              "}\n",
              "#T_ae963_row0_col5, #T_ae963_row1_col5, #T_ae963_row2_col5, #T_ae963_row5_col0, #T_ae963_row5_col1, #T_ae963_row5_col2 {\n",
              "  background-color: #6c8ff1;\n",
              "  color: #f1f1f1;\n",
              "}\n",
              "#T_ae963_row0_col6, #T_ae963_row1_col6, #T_ae963_row2_col6, #T_ae963_row6_col0, #T_ae963_row6_col1, #T_ae963_row6_col2 {\n",
              "  background-color: #9fbfff;\n",
              "  color: #000000;\n",
              "}\n",
              "#T_ae963_row0_col7, #T_ae963_row1_col7, #T_ae963_row2_col7, #T_ae963_row3_col7, #T_ae963_row7_col0, #T_ae963_row7_col1, #T_ae963_row7_col2, #T_ae963_row7_col3 {\n",
              "  background-color: #506bda;\n",
              "  color: #f1f1f1;\n",
              "}\n",
              "#T_ae963_row0_col8, #T_ae963_row1_col8, #T_ae963_row2_col8, #T_ae963_row8_col0, #T_ae963_row8_col1, #T_ae963_row8_col2 {\n",
              "  background-color: #cdd9ec;\n",
              "  color: #000000;\n",
              "}\n",
              "#T_ae963_row3_col4, #T_ae963_row4_col3 {\n",
              "  background-color: #3b4cc0;\n",
              "  color: #f1f1f1;\n",
              "}\n",
              "#T_ae963_row3_col5, #T_ae963_row5_col3 {\n",
              "  background-color: #6282ea;\n",
              "  color: #f1f1f1;\n",
              "}\n",
              "#T_ae963_row3_col6, #T_ae963_row6_col3 {\n",
              "  background-color: #a6c4fe;\n",
              "  color: #000000;\n",
              "}\n",
              "#T_ae963_row3_col8, #T_ae963_row8_col3 {\n",
              "  background-color: #afcafc;\n",
              "  color: #000000;\n",
              "}\n",
              "#T_ae963_row4_col5, #T_ae963_row5_col4, #T_ae963_row5_col7, #T_ae963_row7_col5 {\n",
              "  background-color: #5470de;\n",
              "  color: #f1f1f1;\n",
              "}\n",
              "#T_ae963_row4_col6, #T_ae963_row6_col4 {\n",
              "  background-color: #516ddb;\n",
              "  color: #f1f1f1;\n",
              "}\n",
              "#T_ae963_row4_col7, #T_ae963_row7_col4 {\n",
              "  background-color: #3f53c6;\n",
              "  color: #f1f1f1;\n",
              "}\n",
              "#T_ae963_row4_col8, #T_ae963_row8_col4 {\n",
              "  background-color: #5f7fe8;\n",
              "  color: #f1f1f1;\n",
              "}\n",
              "#T_ae963_row5_col6, #T_ae963_row6_col5 {\n",
              "  background-color: #80a3fa;\n",
              "  color: #f1f1f1;\n",
              "}\n",
              "#T_ae963_row5_col8, #T_ae963_row8_col5 {\n",
              "  background-color: #d3dbe7;\n",
              "  color: #000000;\n",
              "}\n",
              "#T_ae963_row6_col7, #T_ae963_row7_col6 {\n",
              "  background-color: #536edd;\n",
              "  color: #f1f1f1;\n",
              "}\n",
              "#T_ae963_row6_col8, #T_ae963_row8_col6 {\n",
              "  background-color: #dddcdc;\n",
              "  color: #000000;\n",
              "}\n",
              "</style>\n",
              "<table id=\"T_ae963_\" class=\"dataframe\">\n",
              "  <thead>\n",
              "    <tr>\n",
              "      <th class=\"blank level0\" >&nbsp;</th>\n",
              "      <th class=\"col_heading level0 col0\" >Breathing Problem</th>\n",
              "      <th class=\"col_heading level0 col1\" >Pink Eye</th>\n",
              "      <th class=\"col_heading level0 col2\" >Pneumonia </th>\n",
              "      <th class=\"col_heading level0 col3\" >Fever</th>\n",
              "      <th class=\"col_heading level0 col4\" >Acute Gastroenteritis </th>\n",
              "      <th class=\"col_heading level0 col5\" >Dry Cough</th>\n",
              "      <th class=\"col_heading level0 col6\" >Sore throat</th>\n",
              "      <th class=\"col_heading level0 col7\" >Bladder Infection</th>\n",
              "      <th class=\"col_heading level0 col8\" >Adenoviruses</th>\n",
              "    </tr>\n",
              "  </thead>\n",
              "  <tbody>\n",
              "    <tr>\n",
              "      <th id=\"T_ae963_level0_row0\" class=\"row_heading level0 row0\" >Breathing Problem</th>\n",
              "      <td id=\"T_ae963_row0_col0\" class=\"data row0 col0\" >1.000000</td>\n",
              "      <td id=\"T_ae963_row0_col1\" class=\"data row0 col1\" >1.000000</td>\n",
              "      <td id=\"T_ae963_row0_col2\" class=\"data row0 col2\" >1.000000</td>\n",
              "      <td id=\"T_ae963_row0_col3\" class=\"data row0 col3\" >0.089903</td>\n",
              "      <td id=\"T_ae963_row0_col4\" class=\"data row0 col4\" >0.066688</td>\n",
              "      <td id=\"T_ae963_row0_col5\" class=\"data row0 col5\" >0.159562</td>\n",
              "      <td id=\"T_ae963_row0_col6\" class=\"data row0 col6\" >0.303768</td>\n",
              "      <td id=\"T_ae963_row0_col7\" class=\"data row0 col7\" >0.075318</td>\n",
              "      <td id=\"T_ae963_row0_col8\" class=\"data row0 col8\" >0.443764</td>\n",
              "    </tr>\n",
              "    <tr>\n",
              "      <th id=\"T_ae963_level0_row1\" class=\"row_heading level0 row1\" >Pink Eye</th>\n",
              "      <td id=\"T_ae963_row1_col0\" class=\"data row1 col0\" >1.000000</td>\n",
              "      <td id=\"T_ae963_row1_col1\" class=\"data row1 col1\" >1.000000</td>\n",
              "      <td id=\"T_ae963_row1_col2\" class=\"data row1 col2\" >1.000000</td>\n",
              "      <td id=\"T_ae963_row1_col3\" class=\"data row1 col3\" >0.089903</td>\n",
              "      <td id=\"T_ae963_row1_col4\" class=\"data row1 col4\" >0.066688</td>\n",
              "      <td id=\"T_ae963_row1_col5\" class=\"data row1 col5\" >0.159562</td>\n",
              "      <td id=\"T_ae963_row1_col6\" class=\"data row1 col6\" >0.303768</td>\n",
              "      <td id=\"T_ae963_row1_col7\" class=\"data row1 col7\" >0.075318</td>\n",
              "      <td id=\"T_ae963_row1_col8\" class=\"data row1 col8\" >0.443764</td>\n",
              "    </tr>\n",
              "    <tr>\n",
              "      <th id=\"T_ae963_level0_row2\" class=\"row_heading level0 row2\" >Pneumonia </th>\n",
              "      <td id=\"T_ae963_row2_col0\" class=\"data row2 col0\" >1.000000</td>\n",
              "      <td id=\"T_ae963_row2_col1\" class=\"data row2 col1\" >1.000000</td>\n",
              "      <td id=\"T_ae963_row2_col2\" class=\"data row2 col2\" >1.000000</td>\n",
              "      <td id=\"T_ae963_row2_col3\" class=\"data row2 col3\" >0.089903</td>\n",
              "      <td id=\"T_ae963_row2_col4\" class=\"data row2 col4\" >0.066688</td>\n",
              "      <td id=\"T_ae963_row2_col5\" class=\"data row2 col5\" >0.159562</td>\n",
              "      <td id=\"T_ae963_row2_col6\" class=\"data row2 col6\" >0.303768</td>\n",
              "      <td id=\"T_ae963_row2_col7\" class=\"data row2 col7\" >0.075318</td>\n",
              "      <td id=\"T_ae963_row2_col8\" class=\"data row2 col8\" >0.443764</td>\n",
              "    </tr>\n",
              "    <tr>\n",
              "      <th id=\"T_ae963_level0_row3\" class=\"row_heading level0 row3\" >Fever</th>\n",
              "      <td id=\"T_ae963_row3_col0\" class=\"data row3 col0\" >0.089903</td>\n",
              "      <td id=\"T_ae963_row3_col1\" class=\"data row3 col1\" >0.089903</td>\n",
              "      <td id=\"T_ae963_row3_col2\" class=\"data row3 col2\" >0.089903</td>\n",
              "      <td id=\"T_ae963_row3_col3\" class=\"data row3 col3\" >1.000000</td>\n",
              "      <td id=\"T_ae963_row3_col4\" class=\"data row3 col4\" >0.002252</td>\n",
              "      <td id=\"T_ae963_row3_col5\" class=\"data row3 col5\" >0.127580</td>\n",
              "      <td id=\"T_ae963_row3_col6\" class=\"data row3 col6\" >0.322235</td>\n",
              "      <td id=\"T_ae963_row3_col7\" class=\"data row3 col7\" >0.073953</td>\n",
              "      <td id=\"T_ae963_row3_col8\" class=\"data row3 col8\" >0.352891</td>\n",
              "    </tr>\n",
              "    <tr>\n",
              "      <th id=\"T_ae963_level0_row4\" class=\"row_heading level0 row4\" >Acute Gastroenteritis </th>\n",
              "      <td id=\"T_ae963_row4_col0\" class=\"data row4 col0\" >0.066688</td>\n",
              "      <td id=\"T_ae963_row4_col1\" class=\"data row4 col1\" >0.066688</td>\n",
              "      <td id=\"T_ae963_row4_col2\" class=\"data row4 col2\" >0.066688</td>\n",
              "      <td id=\"T_ae963_row4_col3\" class=\"data row4 col3\" >0.002252</td>\n",
              "      <td id=\"T_ae963_row4_col4\" class=\"data row4 col4\" >1.000000</td>\n",
              "      <td id=\"T_ae963_row4_col5\" class=\"data row4 col5\" >0.086176</td>\n",
              "      <td id=\"T_ae963_row4_col6\" class=\"data row4 col6\" >0.079055</td>\n",
              "      <td id=\"T_ae963_row4_col7\" class=\"data row4 col7\" >0.020941</td>\n",
              "      <td id=\"T_ae963_row4_col8\" class=\"data row4 col8\" >0.119755</td>\n",
              "    </tr>\n",
              "    <tr>\n",
              "      <th id=\"T_ae963_level0_row5\" class=\"row_heading level0 row5\" >Dry Cough</th>\n",
              "      <td id=\"T_ae963_row5_col0\" class=\"data row5 col0\" >0.159562</td>\n",
              "      <td id=\"T_ae963_row5_col1\" class=\"data row5 col1\" >0.159562</td>\n",
              "      <td id=\"T_ae963_row5_col2\" class=\"data row5 col2\" >0.159562</td>\n",
              "      <td id=\"T_ae963_row5_col3\" class=\"data row5 col3\" >0.127580</td>\n",
              "      <td id=\"T_ae963_row5_col4\" class=\"data row5 col4\" >0.086176</td>\n",
              "      <td id=\"T_ae963_row5_col5\" class=\"data row5 col5\" >1.000000</td>\n",
              "      <td id=\"T_ae963_row5_col6\" class=\"data row5 col6\" >0.213907</td>\n",
              "      <td id=\"T_ae963_row5_col7\" class=\"data row5 col7\" >0.086843</td>\n",
              "      <td id=\"T_ae963_row5_col8\" class=\"data row5 col8\" >0.464292</td>\n",
              "    </tr>\n",
              "    <tr>\n",
              "      <th id=\"T_ae963_level0_row6\" class=\"row_heading level0 row6\" >Sore throat</th>\n",
              "      <td id=\"T_ae963_row6_col0\" class=\"data row6 col0\" >0.303768</td>\n",
              "      <td id=\"T_ae963_row6_col1\" class=\"data row6 col1\" >0.303768</td>\n",
              "      <td id=\"T_ae963_row6_col2\" class=\"data row6 col2\" >0.303768</td>\n",
              "      <td id=\"T_ae963_row6_col3\" class=\"data row6 col3\" >0.322235</td>\n",
              "      <td id=\"T_ae963_row6_col4\" class=\"data row6 col4\" >0.079055</td>\n",
              "      <td id=\"T_ae963_row6_col5\" class=\"data row6 col5\" >0.213907</td>\n",
              "      <td id=\"T_ae963_row6_col6\" class=\"data row6 col6\" >1.000000</td>\n",
              "      <td id=\"T_ae963_row6_col7\" class=\"data row6 col7\" >0.081377</td>\n",
              "      <td id=\"T_ae963_row6_col8\" class=\"data row6 col8\" >0.502848</td>\n",
              "    </tr>\n",
              "    <tr>\n",
              "      <th id=\"T_ae963_level0_row7\" class=\"row_heading level0 row7\" >Bladder Infection</th>\n",
              "      <td id=\"T_ae963_row7_col0\" class=\"data row7 col0\" >0.075318</td>\n",
              "      <td id=\"T_ae963_row7_col1\" class=\"data row7 col1\" >0.075318</td>\n",
              "      <td id=\"T_ae963_row7_col2\" class=\"data row7 col2\" >0.075318</td>\n",
              "      <td id=\"T_ae963_row7_col3\" class=\"data row7 col3\" >0.073953</td>\n",
              "      <td id=\"T_ae963_row7_col4\" class=\"data row7 col4\" >0.020941</td>\n",
              "      <td id=\"T_ae963_row7_col5\" class=\"data row7 col5\" >0.086843</td>\n",
              "      <td id=\"T_ae963_row7_col6\" class=\"data row7 col6\" >0.081377</td>\n",
              "      <td id=\"T_ae963_row7_col7\" class=\"data row7 col7\" >1.000000</td>\n",
              "      <td id=\"T_ae963_row7_col8\" class=\"data row7 col8\" >0.089930</td>\n",
              "    </tr>\n",
              "    <tr>\n",
              "      <th id=\"T_ae963_level0_row8\" class=\"row_heading level0 row8\" >Adenoviruses</th>\n",
              "      <td id=\"T_ae963_row8_col0\" class=\"data row8 col0\" >0.443764</td>\n",
              "      <td id=\"T_ae963_row8_col1\" class=\"data row8 col1\" >0.443764</td>\n",
              "      <td id=\"T_ae963_row8_col2\" class=\"data row8 col2\" >0.443764</td>\n",
              "      <td id=\"T_ae963_row8_col3\" class=\"data row8 col3\" >0.352891</td>\n",
              "      <td id=\"T_ae963_row8_col4\" class=\"data row8 col4\" >0.119755</td>\n",
              "      <td id=\"T_ae963_row8_col5\" class=\"data row8 col5\" >0.464292</td>\n",
              "      <td id=\"T_ae963_row8_col6\" class=\"data row8 col6\" >0.502848</td>\n",
              "      <td id=\"T_ae963_row8_col7\" class=\"data row8 col7\" >0.089930</td>\n",
              "      <td id=\"T_ae963_row8_col8\" class=\"data row8 col8\" >1.000000</td>\n",
              "    </tr>\n",
              "  </tbody>\n",
              "</table>\n"
            ]
          },
          "metadata": {},
          "execution_count": 24
        }
      ]
    },
    {
      "cell_type": "markdown",
      "source": [
        "Machine learning algorithm"
      ],
      "metadata": {
        "id": "0x8fCFX31e6U"
      }
    },
    {
      "cell_type": "code",
      "source": [
        "from sklearn.model_selection import train_test_split\n",
        "from sklearn import metrics\n",
        "from sklearn.metrics import accuracy_score"
      ],
      "metadata": {
        "id": "qMqxg_xBy22E"
      },
      "execution_count": null,
      "outputs": []
    },
    {
      "cell_type": "code",
      "source": [
        "x=adenoviruses.drop('Adenoviruses',axis=1)\n",
        "y=adenoviruses['Adenoviruses']"
      ],
      "metadata": {
        "id": "-C7vB9dDy2zG"
      },
      "execution_count": null,
      "outputs": []
    },
    {
      "cell_type": "code",
      "source": [
        "x_train, x_test, y_train, y_test = train_test_split(x, y, test_size = 0.20)"
      ],
      "metadata": {
        "id": "as_zLirvy2v1"
      },
      "execution_count": null,
      "outputs": []
    },
    {
      "cell_type": "markdown",
      "source": [
        "**`1. Logistic Regression`**"
      ],
      "metadata": {
        "id": "0Hjr1ipZ12hJ"
      }
    },
    {
      "cell_type": "code",
      "source": [
        "#Train the model\n",
        "\n",
        "from sklearn.linear_model import LogisticRegression\n",
        "model = LogisticRegression()\n",
        "#Fit the model\n",
        "model.fit(x_train, y_train)\n",
        "y_pred = model.predict(x_test)\n",
        "\n",
        "y_pred_logistic = model.decision_function(x_test)\n",
        "#Score/Accuracy\n",
        "acc_logreg=model.score(x_test, y_test)*100\n",
        "acc_logreg"
      ],
      "metadata": {
        "colab": {
          "base_uri": "https://localhost:8080/"
        },
        "id": "2haookGz1w_1",
        "outputId": "99202925-e747-407e-bdb6-2f3c0c3f2bc6"
      },
      "execution_count": null,
      "outputs": [
        {
          "output_type": "execute_result",
          "data": {
            "text/plain": [
              "92.54829806807727"
            ]
          },
          "metadata": {},
          "execution_count": 28
        }
      ]
    },
    {
      "cell_type": "code",
      "source": [
        "result = model.predict([[1,1,1,1,1,1,1,0]])"
      ],
      "metadata": {
        "colab": {
          "base_uri": "https://localhost:8080/"
        },
        "id": "PSktJ4LAhAmt",
        "outputId": "d32bcd99-6456-4d91-a28c-7eed47de8ed1"
      },
      "execution_count": null,
      "outputs": [
        {
          "output_type": "stream",
          "name": "stderr",
          "text": [
            "/usr/local/lib/python3.9/dist-packages/sklearn/base.py:420: UserWarning: X does not have valid feature names, but LogisticRegression was fitted with feature names\n",
            "  warnings.warn(\n"
          ]
        }
      ]
    },
    {
      "cell_type": "code",
      "source": [
        "if result==1:\n",
        "  print(\"The Patient is Adenovirus Positive(+ve)\")\n",
        "else:\n",
        "  print(\"The Patient is Adenovirus Negative(-ve)\")"
      ],
      "metadata": {
        "colab": {
          "base_uri": "https://localhost:8080/"
        },
        "id": "RDBhgOGOiBSl",
        "outputId": "e82d212f-ec5f-4377-87bb-acfa9055e85a"
      },
      "execution_count": null,
      "outputs": [
        {
          "output_type": "stream",
          "name": "stdout",
          "text": [
            "The Patient is Adenovirus Positive(+ve)\n"
          ]
        }
      ]
    },
    {
      "cell_type": "code",
      "source": [
        "result = model.predict([[0,0,1,0,0,1,0,0]])"
      ],
      "metadata": {
        "colab": {
          "base_uri": "https://localhost:8080/"
        },
        "id": "_PKJimfrjW6h",
        "outputId": "9e2f8ee7-4132-491b-8b9f-5da5a819775a"
      },
      "execution_count": null,
      "outputs": [
        {
          "output_type": "stream",
          "name": "stderr",
          "text": [
            "/usr/local/lib/python3.9/dist-packages/sklearn/base.py:420: UserWarning: X does not have valid feature names, but LogisticRegression was fitted with feature names\n",
            "  warnings.warn(\n"
          ]
        }
      ]
    },
    {
      "cell_type": "code",
      "source": [
        "if result==1:\n",
        "  print(\"The Patient is Adenovirus Positive(+ve)\")\n",
        "else:\n",
        "  print(\"The Patient is Adenovirus Negative(-ve)\")"
      ],
      "metadata": {
        "colab": {
          "base_uri": "https://localhost:8080/"
        },
        "id": "CLlaCI-ojWwZ",
        "outputId": "f50e80c4-daa9-4d20-9ba6-928ade373c7b"
      },
      "execution_count": null,
      "outputs": [
        {
          "output_type": "stream",
          "name": "stdout",
          "text": [
            "The Patient is Adenovirus Negative(-ve)\n"
          ]
        }
      ]
    },
    {
      "cell_type": "markdown",
      "source": [
        "ROC and AUC comparison (Logistic Regression)"
      ],
      "metadata": {
        "id": "u661mWrqH2tX"
      }
    },
    {
      "cell_type": "code",
      "source": [
        "from sklearn.metrics import roc_curve, auc\n",
        "\n",
        "logistic_fpr, logistic_tpr, threshold = roc_curve(y_test, y_pred_logistic)\n",
        "auc_logistic = auc(logistic_fpr, logistic_tpr)\n",
        "\n",
        "\n",
        "plt.figure(figsize=(5, 5), dpi=100)\n",
        "# plt.plot(svm_fpr, svm_tpr, linestyle='-', label='SVM (auc = %0.3f)' % auc_svm)\n",
        "plt.plot(logistic_fpr, logistic_tpr, marker='.', label='Logistic (auc = %0.3f)' % auc_logistic)\n",
        "\n",
        "from matplotlib import pyplot\n",
        "ns_probs = [0 for _ in range(len(y_test))]\n",
        "ns_fpr, ns_tpr, _ = roc_curve(y_test, ns_probs)\n",
        "pyplot.plot(ns_fpr, ns_tpr, linestyle='--', label='No Skill')\n",
        "plt.xlabel('False Positive Rate -->')\n",
        "plt.ylabel('True Positive Rate -->')\n",
        "\n",
        "plt.legend()\n",
        "\n",
        "plt.show()"
      ],
      "metadata": {
        "colab": {
          "base_uri": "https://localhost:8080/",
          "height": 457
        },
        "id": "seDwC0N6819_",
        "outputId": "ed390e23-97e2-496c-9873-66cff1852b89"
      },
      "execution_count": null,
      "outputs": [
        {
          "output_type": "display_data",
          "data": {
            "text/plain": [
              "<Figure size 500x500 with 1 Axes>"
            ],
            "image/png": "[encoded data removed]"
          },
          "metadata": {
            "needs_background": "light"
          }
        }
      ]
    },
    {
      "cell_type": "markdown",
      "source": [
        "**`2. RandomForestRegressor`**"
      ],
      "metadata": {
        "id": "JCaD68WU2I3z"
      }
    },
    {
      "cell_type": "code",
      "source": [
        "#Train the model\n",
        "\n",
        "from sklearn.ensemble import RandomForestRegressor\n",
        "model = RandomForestRegressor(n_estimators=1000)\n",
        "#Fit\n",
        "model.fit(x_train, y_train)\n",
        "\n",
        "# y_pred_rfc = model.decision_function(x_test)\n",
        "#Score/Accuracy\n",
        "acc_randomforest=model.score(x_test, y_test)*100\n",
        "acc_randomforest"
      ],
      "metadata": {
        "colab": {
          "base_uri": "https://localhost:8080/"
        },
        "id": "zFJwDdaX1w8E",
        "outputId": "64076d89-7b2b-4a78-b72d-a088600afdfe"
      },
      "execution_count": null,
      "outputs": [
        {
          "output_type": "execute_result",
          "data": {
            "text/plain": [
              "73.21063588356853"
            ]
          },
          "metadata": {},
          "execution_count": 54
        }
      ]
    },
    {
      "cell_type": "markdown",
      "source": [
        "**`3. GradientBoostingRegressor`**"
      ],
      "metadata": {
        "id": "H5A4s_AJ2LJ5"
      }
    },
    {
      "cell_type": "code",
      "source": [
        "#Train the model\n",
        "from sklearn.ensemble import GradientBoostingRegressor\n",
        "GBR = GradientBoostingRegressor(n_estimators=100, max_depth=4)\n",
        "#Fit\n",
        "GBR.fit(x_train, y_train)\n",
        "acc_gbk=GBR.score(x_test, y_test)*100\n",
        "acc_gbk"
      ],
      "metadata": {
        "colab": {
          "base_uri": "https://localhost:8080/"
        },
        "id": "DlCoUNgZ1w3Z",
        "outputId": "4d4204bd-e738-45c9-f151-daca3c659515"
      },
      "execution_count": null,
      "outputs": [
        {
          "output_type": "execute_result",
          "data": {
            "text/plain": [
              "72.57265403881995"
            ]
          },
          "metadata": {},
          "execution_count": 55
        }
      ]
    },
    {
      "cell_type": "markdown",
      "source": [
        "**`4. KNeighborsClassifier`**"
      ],
      "metadata": {
        "id": "3wZzLpPu2fEv"
      }
    },
    {
      "cell_type": "code",
      "source": [
        "#Train the model\n",
        "\n",
        "from sklearn.neighbors import KNeighborsClassifier\n",
        "knn = KNeighborsClassifier(n_neighbors=10)\n",
        "knn.fit(x_train, y_train)\n",
        "y_pred = knn.predict(x_test)\n",
        "#Score/Accuracy\n",
        "acc_knn=knn.score(x_test, y_test)*100\n",
        "acc_knn"
      ],
      "metadata": {
        "colab": {
          "base_uri": "https://localhost:8080/"
        },
        "id": "j1scSuGF2O0_",
        "outputId": "d323a08b-bfe4-4b53-d1c6-f7ad11af09f3"
      },
      "execution_count": null,
      "outputs": [
        {
          "output_type": "execute_result",
          "data": {
            "text/plain": [
              "94.48022079116836"
            ]
          },
          "metadata": {},
          "execution_count": 56
        }
      ]
    },
    {
      "cell_type": "markdown",
      "source": [
        "**`5. DecisionTreeClassifier`**"
      ],
      "metadata": {
        "id": "bNyXMYEx2xYh"
      }
    },
    {
      "cell_type": "code",
      "source": [
        "#Train the model\n",
        "\n",
        "from sklearn import tree\n",
        "t = tree.DecisionTreeClassifier()\n",
        "t.fit(x_train,y_train)\n",
        "y_pred = t.predict(x_test)\n",
        "#Score/Accuracy\n",
        "acc_decisiontree=t.score(x_test, y_test)*100\n",
        "acc_decisiontree"
      ],
      "metadata": {
        "colab": {
          "base_uri": "https://localhost:8080/"
        },
        "id": "9zlktM_N2Owv",
        "outputId": "6f6aacd3-da8f-4ad4-9217-f07028d6dcd4"
      },
      "execution_count": null,
      "outputs": [
        {
          "output_type": "execute_result",
          "data": {
            "text/plain": [
              "94.94020239190432"
            ]
          },
          "metadata": {},
          "execution_count": 57
        }
      ]
    },
    {
      "cell_type": "markdown",
      "source": [
        "**`6. naive_bayes`**"
      ],
      "metadata": {
        "id": "Gj4vFoNP29-4"
      }
    },
    {
      "cell_type": "code",
      "source": [
        "#Train the model\n",
        "\n",
        "from sklearn.naive_bayes import GaussianNB\n",
        "model = GaussianNB()\n",
        "model.fit(x_train,y_train)\n",
        "#Score/Accuracy\n",
        "acc_gaussian= model.score(x_test, y_test)*100\n",
        "acc_gaussian"
      ],
      "metadata": {
        "colab": {
          "base_uri": "https://localhost:8080/"
        },
        "id": "zspi_l-y2OSP",
        "outputId": "4d28ba57-1678-4e1d-9129-40d8f1027e01"
      },
      "execution_count": null,
      "outputs": [
        {
          "output_type": "execute_result",
          "data": {
            "text/plain": [
              "86.38454461821527"
            ]
          },
          "metadata": {},
          "execution_count": 58
        }
      ]
    },
    {
      "cell_type": "markdown",
      "source": [
        "**`7. svm`**"
      ],
      "metadata": {
        "id": "RCqElKhD2_9o"
      }
    },
    {
      "cell_type": "code",
      "source": [
        "#Train the model\n",
        "\n",
        "#Import svm model\n",
        "from sklearn import svm\n",
        "#Create a svm Classifier\n",
        "clf = svm.SVC(kernel='linear') # Linear Kernel\n",
        "#Train the model using the training sets\n",
        "clf.fit(x_train, y_train)\n",
        "#Predict the response for test dataset\n",
        "y_pred = clf.predict(x_test)\n",
        "y_pred_svm = clf.decision_function(x_test)\n",
        "#Score/Accuracy\n",
        "acc_svc=clf.score(x_test, y_test)*100\n",
        "acc_svc"
      ],
      "metadata": {
        "colab": {
          "base_uri": "https://localhost:8080/"
        },
        "id": "uTLGDy6N26i1",
        "outputId": "275a3cdf-8e0b-422a-e1d8-9ef5b6612fd9"
      },
      "execution_count": null,
      "outputs": [
        {
          "output_type": "execute_result",
          "data": {
            "text/plain": [
              "91.99632014719411"
            ]
          },
          "metadata": {},
          "execution_count": 59
        }
      ]
    },
    {
      "cell_type": "code",
      "source": [
        "from sklearn.metrics import classification_report\n",
        "print(classification_report(y_test, y_pred))"
      ],
      "metadata": {
        "colab": {
          "base_uri": "https://localhost:8080/"
        },
        "id": "rms9vPpO6ebn",
        "outputId": "f56eb715-b207-4760-d33c-8f746cfbef44"
      },
      "execution_count": null,
      "outputs": [
        {
          "output_type": "stream",
          "name": "stdout",
          "text": [
            "              precision    recall  f1-score   support\n",
            "\n",
            "           0       0.82      0.72      0.77       198\n",
            "           1       0.94      0.97      0.95       889\n",
            "\n",
            "    accuracy                           0.92      1087\n",
            "   macro avg       0.88      0.84      0.86      1087\n",
            "weighted avg       0.92      0.92      0.92      1087\n",
            "\n"
          ]
        }
      ]
    },
    {
      "cell_type": "code",
      "source": [
        "from sklearn.metrics import confusion_matrix\n",
        "cf_matrix= confusion_matrix(y_test, y_pred)\n",
        "print('confusion matrix \\n', cf_matrix)"
      ],
      "metadata": {
        "colab": {
          "base_uri": "https://localhost:8080/"
        },
        "id": "nTceVTbq5sE6",
        "outputId": "18480a88-d5d0-404a-f5e3-839e5cf61f25"
      },
      "execution_count": null,
      "outputs": [
        {
          "output_type": "stream",
          "name": "stdout",
          "text": [
            "confusion matrix \n",
            " [[142  56]\n",
            " [ 31 858]]\n"
          ]
        }
      ]
    },
    {
      "cell_type": "code",
      "source": [
        "sns.heatmap(cf_matrix, cmap='coolwarm', annot=True, linewidth=1, fmt=\"d\")\n",
        "plt.title('Confusion Matrix');\n",
        "plt.show()"
      ],
      "metadata": {
        "colab": {
          "base_uri": "https://localhost:8080/",
          "height": 281
        },
        "id": "xhcgXfKS97ZF",
        "outputId": "b0897fb9-ea26-4659-b8d0-a8681e601112"
      },
      "execution_count": null,
      "outputs": [
        {
          "output_type": "display_data",
          "data": {
            "text/plain": [
              "<Figure size 432x288 with 2 Axes>"
            ],
            "image/png": "[encoded data removed]"
          },
          "metadata": {
            "needs_background": "light"
          }
        }
      ]
    },
    {
      "cell_type": "markdown",
      "source": [
        "ROC and AUC comparison (SVM & Logistic Regression)"
      ],
      "metadata": {
        "id": "om40vQVjHbVq"
      }
    },
    {
      "cell_type": "code",
      "source": [
        "from sklearn.metrics import roc_curve, auc\n",
        "\n",
        "logistic_fpr, logistic_tpr, threshold = roc_curve(y_test, y_pred_logistic)\n",
        "auc_logistic = auc(logistic_fpr, logistic_tpr)\n",
        "\n",
        "svm_fpr, svm_tpr, threshold = roc_curve(y_test, y_pred_svm)\n",
        "auc_svm = auc(svm_fpr, svm_tpr)\n",
        "\n",
        "\n",
        "plt.figure(figsize=(5, 5), dpi=100)\n",
        "plt.plot(svm_fpr, svm_tpr, linestyle='-', label='SVM (auc = %0.3f)' % auc_svm)\n",
        "plt.plot(logistic_fpr, logistic_tpr, marker='.', label='Logistic (auc = %0.3f)' % auc_logistic)\n",
        "\n",
        "from matplotlib import pyplot\n",
        "ns_probs = [0 for _ in range(len(y_test))]\n",
        "ns_fpr, ns_tpr, _ = roc_curve(y_test, ns_probs)\n",
        "pyplot.plot(ns_fpr, ns_tpr, linestyle='--', label='No Skill')\n",
        "plt.xlabel('False Positive Rate -->')\n",
        "plt.ylabel('True Positive Rate -->')\n",
        "plt.title('ROC Curve');\n",
        "plt.legend()\n",
        "\n",
        "plt.show()"
      ],
      "metadata": {
        "colab": {
          "base_uri": "https://localhost:8080/",
          "height": 480
        },
        "id": "7KTGGXDfFHLC",
        "outputId": "9f161ed3-791b-464f-83cd-a47f6ddfb38e"
      },
      "execution_count": null,
      "outputs": [
        {
          "output_type": "display_data",
          "data": {
            "text/plain": [
              "<Figure size 500x500 with 1 Axes>"
            ],
            "image/png": "[encoded data removed]"
          },
          "metadata": {
            "needs_background": "light"
          }
        }
      ]
    },
    {
      "cell_type": "code",
      "source": [
        "models = pd.DataFrame({\n",
        "    'Model': ['Support Vector Machines', 'KNN', 'Logistic Regression', \n",
        "              'Random Forest', 'Naive Bayes',   \n",
        "              'Decision Tree', 'Gradient Boosting Classifier'],\n",
        "    'Score': [acc_svc, acc_knn, acc_logreg, \n",
        "              acc_randomforest, acc_gaussian, acc_decisiontree, acc_gbk]})\n",
        "models.sort_values(by='Score', ascending=False)"
      ],
      "metadata": {
        "colab": {
          "base_uri": "https://localhost:8080/",
          "height": 269
        },
        "id": "D-hEYMPb3H89",
        "outputId": "6c8721f1-25ed-4a79-f04d-66ea17acbabf"
      },
      "execution_count": null,
      "outputs": [
        {
          "output_type": "execute_result",
          "data": {
            "text/plain": [
              "                          Model      Score\n",
              "5                 Decision Tree  94.940202\n",
              "1                           KNN  94.480221\n",
              "2           Logistic Regression  92.548298\n",
              "0       Support Vector Machines  91.996320\n",
              "4                   Naive Bayes  86.384545\n",
              "3                 Random Forest  73.210636\n",
              "6  Gradient Boosting Classifier  72.572654"
            ],
            "text/html": [
              "\n",
              "  <div id=\"df-0e4bd564-cad3-44b6-975c-28dc38fbb331\">\n",
              "    <div class=\"colab-df-container\">\n",
              "      <div>\n",
              "<style scoped>\n",
              "    .dataframe tbody tr th:only-of-type {\n",
              "        vertical-align: middle;\n",
              "    }\n",
              "\n",
              "    .dataframe tbody tr th {\n",
              "        vertical-align: top;\n",
              "    }\n",
              "\n",
              "    .dataframe thead th {\n",
              "        text-align: right;\n",
              "    }\n",
              "</style>\n",
              "<table border=\"1\" class=\"dataframe\">\n",
              "  <thead>\n",
              "    <tr style=\"text-align: right;\">\n",
              "      <th></th>\n",
              "      <th>Model</th>\n",
              "      <th>Score</th>\n",
              "    </tr>\n",
              "  </thead>\n",
              "  <tbody>\n",
              "    <tr>\n",
              "      <th>5</th>\n",
              "      <td>Decision Tree</td>\n",
              "      <td>94.940202</td>\n",
              "    </tr>\n",
              "    <tr>\n",
              "      <th>1</th>\n",
              "      <td>KNN</td>\n",
              "      <td>94.480221</td>\n",
              "    </tr>\n",
              "    <tr>\n",
              "      <th>2</th>\n",
              "      <td>Logistic Regression</td>\n",
              "      <td>92.548298</td>\n",
              "    </tr>\n",
              "    <tr>\n",
              "      <th>0</th>\n",
              "      <td>Support Vector Machines</td>\n",
              "      <td>91.996320</td>\n",
              "    </tr>\n",
              "    <tr>\n",
              "      <th>4</th>\n",
              "      <td>Naive Bayes</td>\n",
              "      <td>86.384545</td>\n",
              "    </tr>\n",
              "    <tr>\n",
              "      <th>3</th>\n",
              "      <td>Random Forest</td>\n",
              "      <td>73.210636</td>\n",
              "    </tr>\n",
              "    <tr>\n",
              "      <th>6</th>\n",
              "      <td>Gradient Boosting Classifier</td>\n",
              "      <td>72.572654</td>\n",
              "    </tr>\n",
              "  </tbody>\n",
              "</table>\n",
              "</div>\n",
              "      <button class=\"colab-df-convert\" onclick=\"convertToInteractive('df-0e4bd564-cad3-44b6-975c-28dc38fbb331')\"\n",
              "              title=\"Convert this dataframe to an interactive table.\"\n",
              "              style=\"display:none;\">\n",
              "        \n",
              "  <svg xmlns=\"http://www.w3.org/2000/svg\" height=\"24px\"viewBox=\"0 0 24 24\"\n",
              "       width=\"24px\">\n",
              "    <path d=\"M0 0h24v24H0V0z\" fill=\"none\"/>\n",
              "    <path d=\"M18.56 5.44l.94 2.06.94-2.06 2.06-.94-2.06-.94-.94-2.06-.94 2.06-2.06.94zm-11 1L8.5 8.5l.94-2.06 2.06-.94-2.06-.94L8.5 2.5l-.94 2.06-2.06.94zm10 10l.94 2.06.94-2.06 2.06-.94-2.06-.94-.94-2.06-.94 2.06-2.06.94z\"/><path d=\"M17.41 7.96l-1.37-1.37c-.4-.4-.92-.59-1.43-.59-.52 0-1.04.2-1.43.59L10.3 9.45l-7.72 7.72c-.78.78-.78 2.05 0 2.83L4 21.41c.39.39.9.59 1.41.59.51 0 1.02-.2 1.41-.59l7.78-7.78 2.81-2.81c.8-.78.8-2.07 0-2.86zM5.41 20L4 18.59l7.72-7.72 1.47 1.35L5.41 20z\"/>\n",
              "  </svg>\n",
              "      </button>\n",
              "      \n",
              "  <style>\n",
              "    .colab-df-container {\n",
              "      display:flex;\n",
              "      flex-wrap:wrap;\n",
              "      gap: 12px;\n",
              "    }\n",
              "\n",
              "    .colab-df-convert {\n",
              "      background-color: #E8F0FE;\n",
              "      border: none;\n",
              "      border-radius: 50%;\n",
              "      cursor: pointer;\n",
              "      display: none;\n",
              "      fill: #1967D2;\n",
              "      height: 32px;\n",
              "      padding: 0 0 0 0;\n",
              "      width: 32px;\n",
              "    }\n",
              "\n",
              "    .colab-df-convert:hover {\n",
              "      background-color: #E2EBFA;\n",
              "      box-shadow: 0px 1px 2px rgba(60, 64, 67, 0.3), 0px 1px 3px 1px rgba(60, 64, 67, 0.15);\n",
              "      fill: #174EA6;\n",
              "    }\n",
              "\n",
              "    [theme=dark] .colab-df-convert {\n",
              "      background-color: #3B4455;\n",
              "      fill: #D2E3FC;\n",
              "    }\n",
              "\n",
              "    [theme=dark] .colab-df-convert:hover {\n",
              "      background-color: #434B5C;\n",
              "      box-shadow: 0px 1px 3px 1px rgba(0, 0, 0, 0.15);\n",
              "      filter: drop-shadow(0px 1px 2px rgba(0, 0, 0, 0.3));\n",
              "      fill: #FFFFFF;\n",
              "    }\n",
              "  </style>\n",
              "\n",
              "      <script>\n",
              "        const buttonEl =\n",
              "          document.querySelector('#df-0e4bd564-cad3-44b6-975c-28dc38fbb331 button.colab-df-convert');\n",
              "        buttonEl.style.display =\n",
              "          google.colab.kernel.accessAllowed ? 'block' : 'none';\n",
              "\n",
              "        async function convertToInteractive(key) {\n",
              "          const element = document.querySelector('#df-0e4bd564-cad3-44b6-975c-28dc38fbb331');\n",
              "          const dataTable =\n",
              "            await google.colab.kernel.invokeFunction('convertToInteractive',\n",
              "                                                     [key], {});\n",
              "          if (!dataTable) return;\n",
              "\n",
              "          const docLinkHtml = 'Like what you see? Visit the ' +\n",
              "            '<a target=\"_blank\" href=https://colab.research.google.com/notebooks/data_table.ipynb>data table notebook</a>'\n",
              "            + ' to learn more about interactive tables.';\n",
              "          element.innerHTML = '';\n",
              "          dataTable['output_type'] = 'display_data';\n",
              "          await google.colab.output.renderOutput(dataTable, element);\n",
              "          const docLink = document.createElement('div');\n",
              "          docLink.innerHTML = docLinkHtml;\n",
              "          element.appendChild(docLink);\n",
              "        }\n",
              "      </script>\n",
              "    </div>\n",
              "  </div>\n",
              "  "
            ]
          },
          "metadata": {},
          "execution_count": 66
        }
      ]
    }
  ]
}